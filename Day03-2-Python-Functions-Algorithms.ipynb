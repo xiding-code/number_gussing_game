{
  "cells": [
    {
      "cell_type": "markdown",
      "metadata": {},
      "source": [
        "# Day 3: Functions & Basic Algorithms\n",
        "## Lecture Notebook\n",
        "\n",
        "This notebook is for live coding on functions and basic algorithms (searching and simple aggregations).\n",
        "\n",
        "---\n"
      ]
    },
    {
      "cell_type": "markdown",
      "metadata": {},
      "source": [
        "## 🎯 Goals for This Session\n",
        "- Define and call functions with parameters and return values\n",
        "- Compose functions for clarity and reuse\n",
        "- Implement linear search and manual max\n",
        "\n",
        "---\n"
      ]
    },
    {
      "cell_type": "code",
      "execution_count": null,
      "metadata": {},
      "outputs": [
        {
          "name": "stdout",
          "output_type": "stream",
          "text": [
            "Hello\n",
            "hi\n"
          ]
        }
      ],
      "source": [
        "def greeting(greet=\"Hello\"):\n",
        "    print(greet)\n",
        "greeting()\n",
        "\n",
        "\n",
        "greeting(greet=\"hi\") #当他已经有过def了，后面就不需要再def了，否则会报错\n",
        "\n",
        "\n",
        "#学一下return"
      ]
    },
    {
      "cell_type": "markdown",
      "metadata": {},
      "source": [
        "## 🧩 Part 1: Functions\n",
        "\n",
        "### Demo 1.1: Summary Function\n",
        "Write `summarize(numbers)` that returns `(count, total, mean)` for list objects.\n"
      ]
    },
    {
      "cell_type": "code",
      "execution_count": 31,
      "metadata": {},
      "outputs": [
        {
          "data": {
            "text/plain": [
              "(3, 9, 3.0)"
            ]
          },
          "execution_count": 31,
          "metadata": {},
          "output_type": "execute_result"
        }
      ],
      "source": [
        "# Live Code: summarize\n",
        "\n",
        "def summarize(numbers):\n",
        "    total=0\n",
        "    for n in numbers:\n",
        "        total += n\n",
        "    count = len(numbers)\n",
        "    mean = round(total/count, 2)\n",
        "    return count, total, mean\n",
        "\n",
        "\n",
        "a,b,c = summarize([1,3,5])\n",
        "\n",
        "a,b,c\n",
        "\n",
        "# return count, total, mean\n"
      ]
    },
    {
      "cell_type": "markdown",
      "metadata": {},
      "source": [
        "### Demo 1.2: Parameters and Defaults\n",
        "Write `apply_tax(amount, rate=0.0625)` returning the rounded total.\n"
      ]
    },
    {
      "cell_type": "code",
      "execution_count": null,
      "metadata": {},
      "outputs": [
        {
          "data": {
            "text/plain": [
              "110.0"
            ]
          },
          "execution_count": 37,
          "metadata": {},
          "output_type": "execute_result"
        }
      ],
      "source": [
        "# Live Code: apply_tax\n",
        "\n",
        "def apply_tax(amount, rate=0.0625):\n",
        "    return round(amount * (1+rate),2)\n",
        "apply_tax(100,0.1)\n",
        "#if you want to reverse it, you cantype\n",
        "#apply_tax(rete=XX, amount=XX)\n",
        "# return round(total, 2)\n",
        "\n"
      ]
    },
    {
      "cell_type": "markdown",
      "metadata": {},
      "source": [
        "## 🔍 Part 2: Basic Algorithms\n",
        "\n",
        "### Demo 2.1: Linear Search\n",
        "Implement `find_index(items, target)` to return the first index or `-1`."
      ]
    },
    {
      "cell_type": "code",
      "execution_count": null,
      "metadata": {},
      "outputs": [
        {
          "name": "stdout",
          "output_type": "stream",
          "text": [
            "0 1\n",
            "1 2\n",
            "2 3\n"
          ]
        }
      ],
      "source": [
        "L = [1,2,3]\n",
        "for i, v in enumerate(L):\n",
        "    print(i,v)\n",
        "#其实相当于\n",
        "#for i in range(L):\n",
        "     #print i,L[i]"
      ]
    },
    {
      "cell_type": "code",
      "execution_count": 43,
      "metadata": {},
      "outputs": [
        {
          "name": "stdout",
          "output_type": "stream",
          "text": [
            "2 3\n"
          ]
        }
      ],
      "source": [
        "# Live Code: find_index\n",
        "\n",
        "def find_index(items, target):\n",
        "    #This is a search function that recieves a list.\n",
        "    for i, v in enumerate(items):\n",
        "        if v == target:\n",
        "            return i\n",
        "            return -1\n",
        "\n",
        "print(i,v)\n",
        "\n",
        "# return -1,当任何索引超粗list，都会显示-1\n",
        "\n"
      ]
    },
    {
      "cell_type": "code",
      "execution_count": 42,
      "metadata": {},
      "outputs": [
        {
          "data": {
            "text/plain": [
              "-1"
            ]
          },
          "execution_count": 42,
          "metadata": {},
          "output_type": "execute_result"
        }
      ],
      "source": [
        "find_index([a,b,c], target = \"c\")\n"
      ]
    },
    {
      "cell_type": "markdown",
      "metadata": {},
      "source": [
        "### Demo 2.2: Simple Sort \n",
        "Here’s a bare-bones outline of selection sort. Convert it into a function to sort lists:\n",
        "\n",
        "1. Start at the first position in the list.\n",
        "2. Find the smallest value in the remaining unsorted part of the list.\n",
        "3. Swap it with the value at the current position.\n",
        "4. Move to the next position and repeat steps 2–3 until the whole list is sorted.\n"
      ]
    },
    {
      "cell_type": "code",
      "execution_count": null,
      "metadata": {},
      "outputs": [
        {
          "name": "stdout",
          "output_type": "stream",
          "text": [
            "[9, 8, 7, 6]\n",
            "\n",
            "--- Round i=0, fixing position 0 ---\n",
            "  Compare j=1: lst[i]=9 vs lst[j]=8\n",
            "    -> smaller found (8). pop j=1, insert at i=0: [8, 9, 7, 6]\n",
            "\n",
            "--- Round i=1, fixing position 1 ---\n",
            "  Compare j=2: lst[i]=9 vs lst[j]=7\n",
            "    -> smaller found (7). pop j=2, insert at i=1: [8, 7, 9, 6]\n",
            "\n",
            "--- Round i=2, fixing position 2 ---\n",
            "  Compare j=3: lst[i]=9 vs lst[j]=6\n",
            "    -> smaller found (6). pop j=3, insert at i=2: [8, 7, 6, 9]\n",
            "\n",
            "--- Round i=3, fixing position 3 ---\n",
            "\n",
            "Final: [8, 7, 6, 9]\n"
          ]
        }
      ],
      "source": [
        "# Live Code: selection sort\n",
        "lst=[9,8,6,7]\n",
        "def selection_sort(lst):\n",
        "  for j in range(len(lst)-1):\n",
        "     for i in range(len(lst)-1):\n",
        "        if lst[i]<lst[i+1] and j!=i:\n",
        "           lst[i],lst[i+1]=lst[i],lst[i+1]\n",
        "\n",
        "selection_sort(lst)\n",
        "print(lst)\n",
        "\n",
        "\n",
        "lst = [9,8,6,7]\n",
        "\n",
        "for i in range(len(lst)):\n",
        "    print(f\"\\n--- Round i={i}, fixing position {i} ---\")\n",
        "    for j in range(i+1, len(lst)):\n",
        "        print(f\"  Compare j={j}: lst[i]={lst[i]} vs lst[j]={lst[j]}\")\n",
        "        if lst[i] > lst[j]:\n",
        "            val = lst.pop(j)\n",
        "            lst.insert(i, val)\n",
        "            print(f\"    -> smaller found ({val}). pop j={j}, insert at i={i}: {lst}\")\n",
        "            break\n",
        "        else:\n",
        "            print(\"    -> no action\")\n",
        "\n",
        "print(\"\\nFinal:\", lst)\n",
        "\n",
        "#逻辑是当i等于0，\n",
        "# i=0的时候，j=1比一轮，j=2比一轮，j=3比一轮\n",
        "# i=1 的时候 j=2比一轮，j=3比一轮\n",
        "# i=2 的时候 j=3 比一轮\n",
        "# forloop的意义在于 看minidex要换多少轮 （位数，非数值）\n",
        "\n",
        "\n",
        "def selection_sort(lst):\n",
        "   for i in range(len(lst)-1):\n",
        "      minidex= i\n",
        "      for j in range(i+1,len(lst)): #这里问chatgpt时i+1到lenlst还是i+1在lenlst里面\n",
        "            if lst[j] <lst [minidex]:\n",
        "             minidex = j\n",
        "   lst[i], lst[minidex] = lst[minidex], lst[i]\n",
        "   \n",
        "   return lst\n",
        "#return 的值要小心，这个问chatgpt\n",
        "\n",
        "def selection_sort(lst):\n",
        "    \"\"\"\n",
        "    Sort a list in ascending order using the selection sort algorithm.\n",
        "\n",
        "    The selection sort algorithm works by repeatedly finding the smallest\n",
        "    element from the unsorted portion of the list and swapping it with the\n",
        "    first unsorted element. It continues this process until the list is sorted.\n",
        "\n",
        "    Args:\n",
        "        lst (list): A list of comparable elements (e.g., numbers).\n",
        "\n",
        "    Returns:\n",
        "        list: The sorted list in ascending order.\n",
        "    \"\"\"\n",
        "    for i in range(len(lst) - 1):\n",
        "        minidex = i\n",
        "        for j in range(i + 1, len(lst)):  # 从 i+1 到列表末尾查找更小的值\n",
        "            if lst[j] < lst[minidex]:\n",
        "                minidex = j\n",
        "        lst[i], lst[minidex] = lst[minidex], lst[i]\n",
        "\n",
        "    return lst\n",
        "        \n",
        "\n",
        "\n",
        "\n",
        "\n"
      ]
    },
    {
      "cell_type": "markdown",
      "metadata": {},
      "source": [
        "### Demo 2.3: Running Total (Cumulative Sum)\n",
        "Write a function `running_total(numbers)` that returns a new list where each element is the cumulative sum up to that position."
      ]
    },
    {
      "cell_type": "code",
      "execution_count": null,
      "metadata": {},
      "outputs": [],
      "source": [
        "# Live Code: running_total\n",
        "numbers=[1,2,3,4,5,6,67,78]\n",
        "empty=[]\n",
        "result=0\n",
        "def running_total(numbers):\n",
        "    for i in range(empty):\n",
        "        result+=0\n",
        "        numbers.append(result)\n",
        "        \n",
        "\n",
        "\n",
        "# return result\n",
        "\n"
      ]
    },
    {
      "cell_type": "markdown",
      "metadata": {},
      "source": [
        "### Demo 2.4: Order-Preserving Dedup\n",
        "Write a function `dedup_preserve(items)` that removes duplicates while keeping the first occurrence and preserving original order.\n"
      ]
    },
    {
      "cell_type": "code",
      "execution_count": null,
      "metadata": {},
      "outputs": [],
      "source": [
        "# Live Code: dedup_preserve\n",
        "\n",
        "# def dedup_preserve(items):\n",
        "#     ...\n",
        "# return unique_items\n",
        "\n"
      ]
    },
    {
      "cell_type": "markdown",
      "metadata": {},
      "source": [
        "### Demo 2.5\n",
        "Add a docstring for the function you wrote in 2.4"
      ]
    },
    {
      "cell_type": "code",
      "execution_count": null,
      "metadata": {},
      "outputs": [],
      "source": [
        "# Live Code: dedup_preserve with docstring\n",
        "\n",
        "# def dedup_preserve(items):\n",
        "# \"\"\"\n",
        "# ...\n",
        "# \"\"\"\n",
        "# return unique_items"
      ]
    }
  ],
  "metadata": {
    "kernelspec": {
      "display_name": "base",
      "language": "python",
      "name": "python3"
    },
    "language_info": {
      "codemirror_mode": {
        "name": "ipython",
        "version": 3
      },
      "file_extension": ".py",
      "mimetype": "text/x-python",
      "name": "python",
      "nbconvert_exporter": "python",
      "pygments_lexer": "ipython3",
      "version": "3.13.5"
    }
  },
  "nbformat": 4,
  "nbformat_minor": 2
}
