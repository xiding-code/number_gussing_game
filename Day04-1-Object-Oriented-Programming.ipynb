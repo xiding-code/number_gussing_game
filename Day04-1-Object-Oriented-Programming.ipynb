{
  "cells": [
    {
      "cell_type": "markdown",
      "metadata": {},
      "source": [
        "# Day 4: Object-Oriented Programming\n",
        "## Lecture Notebook\n",
        "\n",
        "Welcome! Today we introduce Python classes and objects and discuss how OOP helps structure modular, maintainable code.\n",
        "\n",
        "---\n"
      ]
    },
    {
      "cell_type": "markdown",
      "metadata": {},
      "source": [
        "## 🎯 Learning Goals\n",
        "- Understand classes vs. objects\n",
        "- Define a simple business `Transaction` class\n",
        "- Instantiate objects and call methods\n",
        "- Recognize how OOP supports modular, maintainable code\n",
        "\n",
        "---\n"
      ]
    },
    {
      "cell_type": "markdown",
      "metadata": {},
      "source": [
        "## 🧩 Part 1: Classes and Objects\n",
        "\n",
        "A class defines the blueprint (attributes and methods). An object is an instance of that blueprint."
      ]
    },
    {
      "cell_type": "code",
      "execution_count": null,
      "metadata": {},
      "outputs": [
        {
          "name": "stdout",
          "output_type": "stream",
          "text": [
            "Buddy\n",
            "black\n",
            "Buddy\n"
          ]
        }
      ],
      "source": [
        "# ------------------------------------------------------------\n",
        "# OOP Skeleton: Dog class (fill in the TODOs)\n",
        "# ------------------------------------------------------------\n",
        "\n",
        "# 1) Define the Dog class\n",
        "class Dog:\n",
        "    def __init__(self, name, age, breed):\n",
        "        self.name = name\n",
        "        self.age = age\n",
        "        self.breed  = breed\n",
        "        #first object has to be the same,for example self.string\n",
        "        # TODO: store the inputs as attributes on self\n",
        "        # Example: self.name = name\n",
        "        # Your code:\n",
        "        pass\n",
        "\n",
        "    def bark(self):\n",
        "        print(f\"{self.name}\")\n",
        "        \"\"\"Print something like: \"<name> says: Woof!\" \"\"\"\n",
        "        # TODO: use self.name in the message\n",
        "        pass\n",
        "\n",
        "    def birthday(self):\n",
        "        self.age +=1\n",
        "        print(f\"Happy Birthday, {self.name}! You are now {self.age} years old.\")\n",
        "\n",
        "    def dog_years(self):\n",
        "        return self.age *7\n",
        "    \n",
        "    def __str__(self):\n",
        "        return f\"{self.name} ({self.breed}), {self.age} years old\"\n",
        "\n",
        "\n",
        "\n",
        "\n",
        "   \n",
        "\n",
        "# ------------------------------------------------------------\n",
        "# 2) Create dog objects and try things out\n",
        "# ------------------------------------------------------------\n",
        "# TODO: create two Dog objects with (name, age, breed)\n",
        "# Example: dog1 = Dog(\"Buddy\", 3, \"Golden Retriever\")\n",
        "dog1 =  Dog(\"Buddy\", 3, \"Golden Retriever\")\n",
        "dog2 =  Dog(\"Riley\",10,\"black\")\n",
        "\n",
        "print (dog1.name)\n",
        "print (dog2.breed)\n",
        "\n",
        "dog1.bark()\n",
        "# --- Retrieving attributes (dot notation) ---\n",
        "# TODO: print each dog's name, age, and breed on separate lines\n",
        "# Example: print(dog1.name)\n",
        "# Your code:\n",
        "pass\n",
        "\n",
        "# --- Using methods ---\n",
        "# TODO: make dog1 bark\n",
        "# TODO: give dog2 a birthday\n",
        "# TODO: print dog2's age in dog years (from dog_years())\n",
        "pass\n",
        "\n",
        "# --- Printing the object (uses __str__) ---\n",
        "# TODO: print(dog1) and print(dog2)\n",
        "pass\n",
        "\n",
        "\n",
        "# ------------------------------------------------------------\n",
        "# 3) (Optional Stretch) Add more behavior\n",
        "# ------------------------------------------------------------\n",
        "# - Add a method play(self, minutes) that prints how long the dog played\n",
        "# - Add a method rename(self, new_name) that updates the dog's name\n",
        "# - Add basic validation: ensure age is non-negative in __init__\n",
        "# - Add a class variable species = \"Canis familiaris\" and print it\n",
        "#\n",
        "# Example usage after you implement:\n",
        "# dog1.play(15)\n",
        "# dog1.rename(\"Buddy Jr.\")\n",
        "# print(Dog.species)\n"
      ]
    },
    {
      "cell_type": "markdown",
      "metadata": {},
      "source": [
        "We will model a simple `Transaction` used in analytics workflows.\n",
        "\n",
        "We'll build it in small steps:\n",
        "- Step 1: Define a `Transaction` class and its constructor `__init__` with attributes `txn_id`, `date`, `amount`, `category`.\n",
        "- Step 2: Add a method `total_with_tax(tax_rate=0.0)` that returns the amount with tax applied.\n",
        "- Step 3: Add a method `to_dict()` that returns a dictionary representation of the transaction.\n"
      ]
    },
    {
      "cell_type": "code",
      "execution_count": null,
      "metadata": {},
      "outputs": [],
      "source": [
        "# Live Code: Define a Transaction class (step-by-step skeleton)\n",
        "\n",
        "# Step 1: Define the class and constructor\n",
        "# class Transaction:\n",
        "#     def __init__(self, txn_id, date, amount, category):\n",
        "#         # set attributes: txn_id, date, amount, category\n",
        "#         pass\n",
        "# \n",
        "# Step 2: Implement total_with_tax\n",
        "#     def total_with_tax(self, tax_rate=0.0):\n",
        "#         # return amount with tax applied\n",
        "#         # formula: amount * (1 + tax_rate)\n",
        "#         pass\n",
        "# \n",
        "# Step 3: Implement to_dict\n",
        "#     def to_dict(self):\n",
        "#         # return a dict representation of the transaction\n",
        "#         pass\n"
      ]
    },
    {
      "cell_type": "markdown",
      "metadata": {},
      "source": [
        "## 🧪 Part 2: Creating Objects and Using Methods\n"
      ]
    },
    {
      "cell_type": "code",
      "execution_count": null,
      "metadata": {},
      "outputs": [],
      "source": [
        "# Live Code: Instantiate and use (skeleton)\n",
        "\n",
        "# Instructions (no solution shown):\n",
        "# 1. Create two Transaction objects (e.g., t1 and t2) with your own values.\n",
        "# 2. Print the result of t1.total_with_tax with a tax rate you choose (e.g., 0.0625).\n",
        "# 3. Print the dictionary representation of t2 using t2.to_dict().\n",
        "\n"
      ]
    }
  ],
  "metadata": {
    "kernelspec": {
      "display_name": "base",
      "language": "python",
      "name": "python3"
    },
    "language_info": {
      "codemirror_mode": {
        "name": "ipython",
        "version": 3
      },
      "file_extension": ".py",
      "mimetype": "text/x-python",
      "name": "python",
      "nbconvert_exporter": "python",
      "pygments_lexer": "ipython3",
      "version": "3.13.5"
    }
  },
  "nbformat": 4,
  "nbformat_minor": 2
}
