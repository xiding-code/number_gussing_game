{
  "nbformat": 4,
  "nbformat_minor": 0,
  "metadata": {
    "kernelspec": {
      "display_name": "Python 3",
      "language": "python",
      "name": "python3"
    },
    "language_info": {
      "codemirror_mode": {
        "name": "ipython",
        "version": 3
      },
      "file_extension": ".py",
      "mimetype": "text/x-python",
      "name": "python",
      "nbconvert_exporter": "python",
      "pygments_lexer": "ipython3",
      "version": "3.7.2"
    },
    "colab": {
      "provenance": [],
      "toc_visible": true
    }
  },
  "cells": [
    {
      "cell_type": "markdown",
      "metadata": {
        "id": "JoeEHEJwVDG0"
      },
      "source": [
        "# Assignment 2"
      ]
    },
    {
      "cell_type": "markdown",
      "metadata": {
        "id": "q1cTiJ0CVDG4"
      },
      "source": [
        "**Generative AI rule:** For this assignment, you are allowed to use generative AI tools for assistance, but the code must be your original work—any code that is not your own will be considered cheating.\n",
        "\n",
        "## Data\n",
        "\n",
        "This is a historical dataset on the modern Olympic Games, including all the Games from Athens 1896 to Rio 2016. The data was taken from Kaggle. The `athlete_events` Dataset contains $271,116$ rows and $15$ columns.\n",
        "\n",
        "**Important note**: Athletes with the same name might not be the same individuals. To accurately distinguish them, make sure to use their unique IDs.\n",
        "\n",
        "**ATTRIBUTES:**\n",
        "\n",
        "**athlete_events.csv**\n",
        "\n",
        "| Column Name | Data Type | Description/Notes |\n",
        "|:----:|:----:|:----|\n",
        "| ID |  integer | Unique number for each athlete |\n",
        "| Name | string | Athlete’s name |\n",
        "| Sex | string | M or F |\n",
        "| Age | integer |  |\n",
        "| Height | integer | In centimeters |\n",
        "| Weight | integer | In kilograms |\n",
        "| Team | string | Team name |\n",
        "| NOC | string | National Olympic Committee, 3 letter code (Matches with `NOC` from noc_regions.csv) |\n",
        "| Games | string | Year and season |\n",
        "| Year | integer |  |\n",
        "| Season | string | Summer or Winter |\n",
        "| City | string | Host city |\n",
        "| Sport | string |  |\n",
        "| Event | string |  |\n",
        "| Medal | string | Gold, Silver, Bronze, or NA |\n",
        "\n",
        "**Source:** Griffin, R, H (2018) 120 years of Olympic history: athletes and results, athlete_events, Found at: https://www.kaggle.com/heesoo37/120-years-of-olympic-history-athletes-and-results#athlete_events.csv"
      ]
    },
    {
      "cell_type": "markdown",
      "metadata": {
        "id": "R5zo_vISVDG5"
      },
      "source": [
        "Download athlete_events.csv from the link above and load it into a DataFrame called `athlete_events`:"
      ]
    },
    {
      "cell_type": "code",
      "metadata": {
        "id": "azkCFhd2VDG5"
      },
      "source": [
        "# Your code goes here\n",
        "import pandas as pd\n",
        "athelete_events = pd.read_csv(\"/assignment2/athlete_events.csv\")"
      ],
      "execution_count": 3,
      "outputs": []
    },
    {
      "cell_type": "code",
      "source": [
        "from google.colab import drive\n",
        "drive.mount('/content/drive')"
      ],
      "metadata": {
        "id": "tsO4CUCogEaR"
      },
      "execution_count": null,
      "outputs": []
    },
    {
      "cell_type": "markdown",
      "metadata": {
        "id": "8IQhitmAVDG5"
      },
      "source": [
        "Use `info()` method on this DataFrame to get a sense of the data:"
      ]
    },
    {
      "cell_type": "code",
      "metadata": {
        "colab": {
          "base_uri": "https://localhost:8080/"
        },
        "id": "h-aNF7hJVDG6",
        "outputId": "4f176824-0d91-4fa5-ba5e-24eaf3f049df"
      },
      "source": [
        "# Your code goes here\n",
        "athelete_events.info()"
      ],
      "execution_count": 8,
      "outputs": [
        {
          "output_type": "stream",
          "name": "stdout",
          "text": [
            "<class 'pandas.core.frame.DataFrame'>\n",
            "RangeIndex: 271116 entries, 0 to 271115\n",
            "Data columns (total 15 columns):\n",
            " #   Column  Non-Null Count   Dtype  \n",
            "---  ------  --------------   -----  \n",
            " 0   ID      271116 non-null  int64  \n",
            " 1   Name    271116 non-null  object \n",
            " 2   Sex     271116 non-null  object \n",
            " 3   Age     261642 non-null  float64\n",
            " 4   Height  210945 non-null  float64\n",
            " 5   Weight  208241 non-null  float64\n",
            " 6   Team    271116 non-null  object \n",
            " 7   NOC     271116 non-null  object \n",
            " 8   Games   271116 non-null  object \n",
            " 9   Year    271116 non-null  int64  \n",
            " 10  Season  271116 non-null  object \n",
            " 11  City    271116 non-null  object \n",
            " 12  Sport   271116 non-null  object \n",
            " 13  Event   271116 non-null  object \n",
            " 14  Medal   39783 non-null   object \n",
            "dtypes: float64(3), int64(2), object(10)\n",
            "memory usage: 31.0+ MB\n"
          ]
        }
      ]
    },
    {
      "cell_type": "code",
      "source": [
        "athelete_events.head()"
      ],
      "metadata": {
        "id": "XZG6F2jDvAQk",
        "outputId": "92e79b4a-6d0d-44fa-e3f7-a0b6f8cf728d",
        "colab": {
          "base_uri": "https://localhost:8080/",
          "height": 451
        }
      },
      "execution_count": 4,
      "outputs": [
        {
          "output_type": "execute_result",
          "data": {
            "text/plain": [
              "   ID                      Name Sex   Age  Height  Weight            Team  \\\n",
              "0   1                 A Dijiang   M  24.0   180.0    80.0           China   \n",
              "1   2                  A Lamusi   M  23.0   170.0    60.0           China   \n",
              "2   3       Gunnar Nielsen Aaby   M  24.0     NaN     NaN         Denmark   \n",
              "3   4      Edgar Lindenau Aabye   M  34.0     NaN     NaN  Denmark/Sweden   \n",
              "4   5  Christine Jacoba Aaftink   F  21.0   185.0    82.0     Netherlands   \n",
              "\n",
              "   NOC        Games  Year  Season       City          Sport  \\\n",
              "0  CHN  1992 Summer  1992  Summer  Barcelona     Basketball   \n",
              "1  CHN  2012 Summer  2012  Summer     London           Judo   \n",
              "2  DEN  1920 Summer  1920  Summer  Antwerpen       Football   \n",
              "3  DEN  1900 Summer  1900  Summer      Paris     Tug-Of-War   \n",
              "4  NED  1988 Winter  1988  Winter    Calgary  Speed Skating   \n",
              "\n",
              "                              Event Medal  \n",
              "0       Basketball Men's Basketball   NaN  \n",
              "1      Judo Men's Extra-Lightweight   NaN  \n",
              "2           Football Men's Football   NaN  \n",
              "3       Tug-Of-War Men's Tug-Of-War  Gold  \n",
              "4  Speed Skating Women's 500 metres   NaN  "
            ],
            "text/html": [
              "\n",
              "  <div id=\"df-e39be68d-35ef-460b-878b-e191279b2b16\" class=\"colab-df-container\">\n",
              "    <div>\n",
              "<style scoped>\n",
              "    .dataframe tbody tr th:only-of-type {\n",
              "        vertical-align: middle;\n",
              "    }\n",
              "\n",
              "    .dataframe tbody tr th {\n",
              "        vertical-align: top;\n",
              "    }\n",
              "\n",
              "    .dataframe thead th {\n",
              "        text-align: right;\n",
              "    }\n",
              "</style>\n",
              "<table border=\"1\" class=\"dataframe\">\n",
              "  <thead>\n",
              "    <tr style=\"text-align: right;\">\n",
              "      <th></th>\n",
              "      <th>ID</th>\n",
              "      <th>Name</th>\n",
              "      <th>Sex</th>\n",
              "      <th>Age</th>\n",
              "      <th>Height</th>\n",
              "      <th>Weight</th>\n",
              "      <th>Team</th>\n",
              "      <th>NOC</th>\n",
              "      <th>Games</th>\n",
              "      <th>Year</th>\n",
              "      <th>Season</th>\n",
              "      <th>City</th>\n",
              "      <th>Sport</th>\n",
              "      <th>Event</th>\n",
              "      <th>Medal</th>\n",
              "    </tr>\n",
              "  </thead>\n",
              "  <tbody>\n",
              "    <tr>\n",
              "      <th>0</th>\n",
              "      <td>1</td>\n",
              "      <td>A Dijiang</td>\n",
              "      <td>M</td>\n",
              "      <td>24.0</td>\n",
              "      <td>180.0</td>\n",
              "      <td>80.0</td>\n",
              "      <td>China</td>\n",
              "      <td>CHN</td>\n",
              "      <td>1992 Summer</td>\n",
              "      <td>1992</td>\n",
              "      <td>Summer</td>\n",
              "      <td>Barcelona</td>\n",
              "      <td>Basketball</td>\n",
              "      <td>Basketball Men's Basketball</td>\n",
              "      <td>NaN</td>\n",
              "    </tr>\n",
              "    <tr>\n",
              "      <th>1</th>\n",
              "      <td>2</td>\n",
              "      <td>A Lamusi</td>\n",
              "      <td>M</td>\n",
              "      <td>23.0</td>\n",
              "      <td>170.0</td>\n",
              "      <td>60.0</td>\n",
              "      <td>China</td>\n",
              "      <td>CHN</td>\n",
              "      <td>2012 Summer</td>\n",
              "      <td>2012</td>\n",
              "      <td>Summer</td>\n",
              "      <td>London</td>\n",
              "      <td>Judo</td>\n",
              "      <td>Judo Men's Extra-Lightweight</td>\n",
              "      <td>NaN</td>\n",
              "    </tr>\n",
              "    <tr>\n",
              "      <th>2</th>\n",
              "      <td>3</td>\n",
              "      <td>Gunnar Nielsen Aaby</td>\n",
              "      <td>M</td>\n",
              "      <td>24.0</td>\n",
              "      <td>NaN</td>\n",
              "      <td>NaN</td>\n",
              "      <td>Denmark</td>\n",
              "      <td>DEN</td>\n",
              "      <td>1920 Summer</td>\n",
              "      <td>1920</td>\n",
              "      <td>Summer</td>\n",
              "      <td>Antwerpen</td>\n",
              "      <td>Football</td>\n",
              "      <td>Football Men's Football</td>\n",
              "      <td>NaN</td>\n",
              "    </tr>\n",
              "    <tr>\n",
              "      <th>3</th>\n",
              "      <td>4</td>\n",
              "      <td>Edgar Lindenau Aabye</td>\n",
              "      <td>M</td>\n",
              "      <td>34.0</td>\n",
              "      <td>NaN</td>\n",
              "      <td>NaN</td>\n",
              "      <td>Denmark/Sweden</td>\n",
              "      <td>DEN</td>\n",
              "      <td>1900 Summer</td>\n",
              "      <td>1900</td>\n",
              "      <td>Summer</td>\n",
              "      <td>Paris</td>\n",
              "      <td>Tug-Of-War</td>\n",
              "      <td>Tug-Of-War Men's Tug-Of-War</td>\n",
              "      <td>Gold</td>\n",
              "    </tr>\n",
              "    <tr>\n",
              "      <th>4</th>\n",
              "      <td>5</td>\n",
              "      <td>Christine Jacoba Aaftink</td>\n",
              "      <td>F</td>\n",
              "      <td>21.0</td>\n",
              "      <td>185.0</td>\n",
              "      <td>82.0</td>\n",
              "      <td>Netherlands</td>\n",
              "      <td>NED</td>\n",
              "      <td>1988 Winter</td>\n",
              "      <td>1988</td>\n",
              "      <td>Winter</td>\n",
              "      <td>Calgary</td>\n",
              "      <td>Speed Skating</td>\n",
              "      <td>Speed Skating Women's 500 metres</td>\n",
              "      <td>NaN</td>\n",
              "    </tr>\n",
              "  </tbody>\n",
              "</table>\n",
              "</div>\n",
              "    <div class=\"colab-df-buttons\">\n",
              "\n",
              "  <div class=\"colab-df-container\">\n",
              "    <button class=\"colab-df-convert\" onclick=\"convertToInteractive('df-e39be68d-35ef-460b-878b-e191279b2b16')\"\n",
              "            title=\"Convert this dataframe to an interactive table.\"\n",
              "            style=\"display:none;\">\n",
              "\n",
              "  <svg xmlns=\"http://www.w3.org/2000/svg\" height=\"24px\" viewBox=\"0 -960 960 960\">\n",
              "    <path d=\"M120-120v-720h720v720H120Zm60-500h600v-160H180v160Zm220 220h160v-160H400v160Zm0 220h160v-160H400v160ZM180-400h160v-160H180v160Zm440 0h160v-160H620v160ZM180-180h160v-160H180v160Zm440 0h160v-160H620v160Z\"/>\n",
              "  </svg>\n",
              "    </button>\n",
              "\n",
              "  <style>\n",
              "    .colab-df-container {\n",
              "      display:flex;\n",
              "      gap: 12px;\n",
              "    }\n",
              "\n",
              "    .colab-df-convert {\n",
              "      background-color: #E8F0FE;\n",
              "      border: none;\n",
              "      border-radius: 50%;\n",
              "      cursor: pointer;\n",
              "      display: none;\n",
              "      fill: #1967D2;\n",
              "      height: 32px;\n",
              "      padding: 0 0 0 0;\n",
              "      width: 32px;\n",
              "    }\n",
              "\n",
              "    .colab-df-convert:hover {\n",
              "      background-color: #E2EBFA;\n",
              "      box-shadow: 0px 1px 2px rgba(60, 64, 67, 0.3), 0px 1px 3px 1px rgba(60, 64, 67, 0.15);\n",
              "      fill: #174EA6;\n",
              "    }\n",
              "\n",
              "    .colab-df-buttons div {\n",
              "      margin-bottom: 4px;\n",
              "    }\n",
              "\n",
              "    [theme=dark] .colab-df-convert {\n",
              "      background-color: #3B4455;\n",
              "      fill: #D2E3FC;\n",
              "    }\n",
              "\n",
              "    [theme=dark] .colab-df-convert:hover {\n",
              "      background-color: #434B5C;\n",
              "      box-shadow: 0px 1px 3px 1px rgba(0, 0, 0, 0.15);\n",
              "      filter: drop-shadow(0px 1px 2px rgba(0, 0, 0, 0.3));\n",
              "      fill: #FFFFFF;\n",
              "    }\n",
              "  </style>\n",
              "\n",
              "    <script>\n",
              "      const buttonEl =\n",
              "        document.querySelector('#df-e39be68d-35ef-460b-878b-e191279b2b16 button.colab-df-convert');\n",
              "      buttonEl.style.display =\n",
              "        google.colab.kernel.accessAllowed ? 'block' : 'none';\n",
              "\n",
              "      async function convertToInteractive(key) {\n",
              "        const element = document.querySelector('#df-e39be68d-35ef-460b-878b-e191279b2b16');\n",
              "        const dataTable =\n",
              "          await google.colab.kernel.invokeFunction('convertToInteractive',\n",
              "                                                    [key], {});\n",
              "        if (!dataTable) return;\n",
              "\n",
              "        const docLinkHtml = 'Like what you see? Visit the ' +\n",
              "          '<a target=\"_blank\" href=https://colab.research.google.com/notebooks/data_table.ipynb>data table notebook</a>'\n",
              "          + ' to learn more about interactive tables.';\n",
              "        element.innerHTML = '';\n",
              "        dataTable['output_type'] = 'display_data';\n",
              "        await google.colab.output.renderOutput(dataTable, element);\n",
              "        const docLink = document.createElement('div');\n",
              "        docLink.innerHTML = docLinkHtml;\n",
              "        element.appendChild(docLink);\n",
              "      }\n",
              "    </script>\n",
              "  </div>\n",
              "\n",
              "\n",
              "    <div id=\"df-dd31723b-ad26-44f9-a4c3-05ff9d08c8b8\">\n",
              "      <button class=\"colab-df-quickchart\" onclick=\"quickchart('df-dd31723b-ad26-44f9-a4c3-05ff9d08c8b8')\"\n",
              "                title=\"Suggest charts\"\n",
              "                style=\"display:none;\">\n",
              "\n",
              "<svg xmlns=\"http://www.w3.org/2000/svg\" height=\"24px\"viewBox=\"0 0 24 24\"\n",
              "     width=\"24px\">\n",
              "    <g>\n",
              "        <path d=\"M19 3H5c-1.1 0-2 .9-2 2v14c0 1.1.9 2 2 2h14c1.1 0 2-.9 2-2V5c0-1.1-.9-2-2-2zM9 17H7v-7h2v7zm4 0h-2V7h2v10zm4 0h-2v-4h2v4z\"/>\n",
              "    </g>\n",
              "</svg>\n",
              "      </button>\n",
              "\n",
              "<style>\n",
              "  .colab-df-quickchart {\n",
              "      --bg-color: #E8F0FE;\n",
              "      --fill-color: #1967D2;\n",
              "      --hover-bg-color: #E2EBFA;\n",
              "      --hover-fill-color: #174EA6;\n",
              "      --disabled-fill-color: #AAA;\n",
              "      --disabled-bg-color: #DDD;\n",
              "  }\n",
              "\n",
              "  [theme=dark] .colab-df-quickchart {\n",
              "      --bg-color: #3B4455;\n",
              "      --fill-color: #D2E3FC;\n",
              "      --hover-bg-color: #434B5C;\n",
              "      --hover-fill-color: #FFFFFF;\n",
              "      --disabled-bg-color: #3B4455;\n",
              "      --disabled-fill-color: #666;\n",
              "  }\n",
              "\n",
              "  .colab-df-quickchart {\n",
              "    background-color: var(--bg-color);\n",
              "    border: none;\n",
              "    border-radius: 50%;\n",
              "    cursor: pointer;\n",
              "    display: none;\n",
              "    fill: var(--fill-color);\n",
              "    height: 32px;\n",
              "    padding: 0;\n",
              "    width: 32px;\n",
              "  }\n",
              "\n",
              "  .colab-df-quickchart:hover {\n",
              "    background-color: var(--hover-bg-color);\n",
              "    box-shadow: 0 1px 2px rgba(60, 64, 67, 0.3), 0 1px 3px 1px rgba(60, 64, 67, 0.15);\n",
              "    fill: var(--button-hover-fill-color);\n",
              "  }\n",
              "\n",
              "  .colab-df-quickchart-complete:disabled,\n",
              "  .colab-df-quickchart-complete:disabled:hover {\n",
              "    background-color: var(--disabled-bg-color);\n",
              "    fill: var(--disabled-fill-color);\n",
              "    box-shadow: none;\n",
              "  }\n",
              "\n",
              "  .colab-df-spinner {\n",
              "    border: 2px solid var(--fill-color);\n",
              "    border-color: transparent;\n",
              "    border-bottom-color: var(--fill-color);\n",
              "    animation:\n",
              "      spin 1s steps(1) infinite;\n",
              "  }\n",
              "\n",
              "  @keyframes spin {\n",
              "    0% {\n",
              "      border-color: transparent;\n",
              "      border-bottom-color: var(--fill-color);\n",
              "      border-left-color: var(--fill-color);\n",
              "    }\n",
              "    20% {\n",
              "      border-color: transparent;\n",
              "      border-left-color: var(--fill-color);\n",
              "      border-top-color: var(--fill-color);\n",
              "    }\n",
              "    30% {\n",
              "      border-color: transparent;\n",
              "      border-left-color: var(--fill-color);\n",
              "      border-top-color: var(--fill-color);\n",
              "      border-right-color: var(--fill-color);\n",
              "    }\n",
              "    40% {\n",
              "      border-color: transparent;\n",
              "      border-right-color: var(--fill-color);\n",
              "      border-top-color: var(--fill-color);\n",
              "    }\n",
              "    60% {\n",
              "      border-color: transparent;\n",
              "      border-right-color: var(--fill-color);\n",
              "    }\n",
              "    80% {\n",
              "      border-color: transparent;\n",
              "      border-right-color: var(--fill-color);\n",
              "      border-bottom-color: var(--fill-color);\n",
              "    }\n",
              "    90% {\n",
              "      border-color: transparent;\n",
              "      border-bottom-color: var(--fill-color);\n",
              "    }\n",
              "  }\n",
              "</style>\n",
              "\n",
              "      <script>\n",
              "        async function quickchart(key) {\n",
              "          const quickchartButtonEl =\n",
              "            document.querySelector('#' + key + ' button');\n",
              "          quickchartButtonEl.disabled = true;  // To prevent multiple clicks.\n",
              "          quickchartButtonEl.classList.add('colab-df-spinner');\n",
              "          try {\n",
              "            const charts = await google.colab.kernel.invokeFunction(\n",
              "                'suggestCharts', [key], {});\n",
              "          } catch (error) {\n",
              "            console.error('Error during call to suggestCharts:', error);\n",
              "          }\n",
              "          quickchartButtonEl.classList.remove('colab-df-spinner');\n",
              "          quickchartButtonEl.classList.add('colab-df-quickchart-complete');\n",
              "        }\n",
              "        (() => {\n",
              "          let quickchartButtonEl =\n",
              "            document.querySelector('#df-dd31723b-ad26-44f9-a4c3-05ff9d08c8b8 button');\n",
              "          quickchartButtonEl.style.display =\n",
              "            google.colab.kernel.accessAllowed ? 'block' : 'none';\n",
              "        })();\n",
              "      </script>\n",
              "    </div>\n",
              "\n",
              "    </div>\n",
              "  </div>\n"
            ],
            "application/vnd.google.colaboratory.intrinsic+json": {
              "type": "dataframe",
              "variable_name": "athelete_events"
            }
          },
          "metadata": {},
          "execution_count": 4
        }
      ]
    },
    {
      "cell_type": "markdown",
      "metadata": {
        "id": "etJYnbkwVDG6"
      },
      "source": [
        "## Question 1\n",
        "\n",
        "Identify athletes who meet all of the following criteria:\n",
        "\n",
        "- They are male (Sex is \"M\").\n",
        "- Their age is below 25.\n",
        "- They have participated in the Summer Olympics.\n",
        "- They have won a medal.\n",
        "\n",
        "Once you have filtered the athletes based on the above criteria, calculate the average height and weight of these athletes."
      ]
    },
    {
      "cell_type": "code",
      "metadata": {
        "id": "3NGbSoxGVDG7",
        "outputId": "600dcd0d-126d-420b-ae71-62fdacfe1048",
        "colab": {
          "base_uri": "https://localhost:8080/"
        }
      },
      "source": [
        "# Your code goes here\n",
        "identify = athelete_events[(athelete_events['Sex'] == 'M') & (athelete_events['Age']<25) & (athelete_events['Season']==\"Summer\") & (athelete_events['Medal'].notnull())]\n",
        "av_height = identify['Height'].mean()\n",
        "av_weight = identify['Weight'].mean()\n",
        "print(f'The average height is :{av_height}, The average weight is {av_weight}')"
      ],
      "execution_count": 5,
      "outputs": [
        {
          "output_type": "stream",
          "name": "stdout",
          "text": [
            "The average height is :181.07452317797146, The average weight is 77.5788491246138\n"
          ]
        }
      ]
    },
    {
      "cell_type": "markdown",
      "metadata": {
        "id": "iEhLEXLZVDG7"
      },
      "source": [
        "## Question 2\n",
        "\n",
        "Using the dataset, group the athletes by \"Team\" and calculate the following for each team:\n",
        "\n",
        "- Which team has the maximum number of atheletes?\n",
        "- Which team has competed in the highest number of distinct sports?\n"
      ]
    },
    {
      "cell_type": "code",
      "metadata": {
        "id": "muosk0LbVDG8",
        "outputId": "341f4e91-2c8e-42a8-dfd6-cc374fbb4279",
        "colab": {
          "base_uri": "https://localhost:8080/"
        }
      },
      "source": [
        "# Your code goes here\n",
        "athelete_count = athelete_events.groupby(\"Team\")['ID'].count()\n",
        "athelete_most = athelete_count.max()\n",
        "the_one_team = athelete_count.sort_values(ascending=False).index[0]\n",
        "print(f'The team has most atheletes is {the_one_team}, and the number is: {athelete_most}')\n",
        "\n",
        "\n"
      ],
      "execution_count": 8,
      "outputs": [
        {
          "output_type": "stream",
          "name": "stdout",
          "text": [
            "The team has most atheletes is United States, and the number is: 17847\n"
          ]
        }
      ]
    },
    {
      "cell_type": "markdown",
      "metadata": {
        "id": "kGN2cpdHVDG8"
      },
      "source": [
        "## Question 3\n",
        "\n",
        "**True or False?**\n",
        "\n",
        "> The average height of athletes who won a medal in Speed Skating is greater than the average height of athletes who won a medal in Basketball.\n",
        "\n",
        "Write code to determine if this statement is True or False."
      ]
    },
    {
      "cell_type": "code",
      "metadata": {
        "id": "zLbAGH-ZVDG8",
        "outputId": "02c88893-8c75-4b8b-81bb-1d1bc74e53e0",
        "colab": {
          "base_uri": "https://localhost:8080/"
        }
      },
      "source": [
        "# Your code goes here\n",
        "speed_skating_data = athelete_events[(athelete_events['Sport'] == 'Speed Skating') & (athelete_events['Medal'].notnull())]\n",
        "speed_heightdata = speed_skating_data['Height'].mean()\n",
        "basketball_data = athelete_events[(athelete_events['Sport'] == 'Basketball') & (athelete_events['Medal'].notnull())]\n",
        "basketball_height = basketball_data['Height'].mean()\n",
        "if speed_heightdata > basketball_height:\n",
        "  print(\"False\")\n",
        "elif speed_heightdata < basketball_height:\n",
        "  print(\"True\")"
      ],
      "execution_count": 9,
      "outputs": [
        {
          "output_type": "stream",
          "name": "stdout",
          "text": [
            "True\n"
          ]
        }
      ]
    },
    {
      "cell_type": "markdown",
      "metadata": {
        "id": "SDhudi_MVDG9"
      },
      "source": [
        "## Question 4\n",
        "\n",
        "Identify athletes who have participated in multiple Olympic events (more than one unique event). For these athletes:\n",
        "\n",
        "- Calculate the sum of the total number of events they participated in altogether.\n",
        "- Identify the athletes who have won at least two medals (any type of medal).  How many such atheletes are there?"
      ]
    },
    {
      "cell_type": "code",
      "metadata": {
        "id": "GTXjS7ZGVDG9",
        "outputId": "ae73ec77-7ede-4c72-cee0-ddccc2a1e468",
        "colab": {
          "base_uri": "https://localhost:8080/"
        }
      },
      "source": [
        "# Your code goes here\n",
        "athelete_participated_more = athelete_events.groupby('ID')['Event'].nunique()\n",
        "totalpeople = athelete_participated_more[athelete_participated_more>1]\n",
        "total_events =totalpeople.sum()\n",
        "print(f'The total number of the event is {total_events}')\n",
        "mostid = totalpeople.index\n",
        "proid = athelete_events[athelete_events['ID'].isin(mostid)]\n",
        "legend = proid.groupby('ID')['Medal'].count()\n",
        "atheletesnums =(legend>1).sum()\n",
        "print(f' {atheletesnums} people win at least 2 medals.')\n"
      ],
      "execution_count": 10,
      "outputs": [
        {
          "output_type": "stream",
          "name": "stdout",
          "text": [
            "The total number of the event is 36103\n",
            " 1382 people win at least 2 medals.\n"
          ]
        }
      ]
    },
    {
      "cell_type": "markdown",
      "metadata": {
        "id": "nTqj2HYXVDG9"
      },
      "source": [
        "## Question 5\n",
        "\n",
        "Identify all athletes who have won at least one medal and have participated in two or more different sports. For these athletes:\n",
        "\n",
        "- Find the total number of different sports each of them participated in. Which athlete has the highest number of sports? And how many?\n",
        "- Calculate the average number of medals won by these athletes. Which athlete has the maximum number of medals? And how many?"
      ]
    },
    {
      "cell_type": "code",
      "metadata": {
        "id": "ZsoZoa2nVDG-",
        "outputId": "58d2a435-8c5b-4c71-cb0b-8885fe407fec",
        "colab": {
          "base_uri": "https://localhost:8080/"
        }
      },
      "source": [
        "# Your code goes here\n",
        "crosssport_proid = athelete_events.groupby('ID')['Sport'].nunique()\n",
        "crosssport_medalid = athelete_events.groupby('ID')['Medal'].count()\n",
        "crossport_id_step = (crosssport_proid>=2) & (crosssport_medalid>=1)\n",
        "crossport_id = crossport_id_step[crossport_id_step].index\n",
        "eligible_atheletes = athelete_events[athelete_events['ID'].isin(crossport_id)]\n",
        "#finished finding the index, question1\n",
        "sports_id = eligible_atheletes.groupby('ID')['Sport'].nunique()\n",
        "topsports_id = sports_id.idxmax()\n",
        "topsports_num = sports_id.max()\n",
        "#question2\n",
        "medals_id = eligible_atheletes.groupby('ID')['Medal'].count()\n",
        "avg_medals = medals_id.mean().round(2)\n",
        "topmedal_id = medals_id.idxmax()\n",
        "topmedal_num = medals_id.max()\n",
        "\n",
        "print(f\"Athlete with most sports: ID={topsports_id}, sports={topsports_num}\")\n",
        "print(f\"Athlete with most medals: ID={topmedal_id}, medals={topmedal_num}\")\n",
        "print(f\"Average number of medals is {avg_medals}\")\n",
        "print(crossport_id_step)\n",
        "print(crossport_id)\n",
        "print(eligible_atheletes)"
      ],
      "execution_count": 17,
      "outputs": [
        {
          "output_type": "stream",
          "name": "stdout",
          "text": [
            "Athlete with most sports: ID=32330, sports=4\n",
            "Athlete with most medals: ID=11951, medals=13\n",
            "Average number of medals is 1.85\n",
            "ID\n",
            "1         False\n",
            "2         False\n",
            "3         False\n",
            "4         False\n",
            "5         False\n",
            "          ...  \n",
            "135567    False\n",
            "135568    False\n",
            "135569    False\n",
            "135570    False\n",
            "135571    False\n",
            "Length: 135571, dtype: bool\n",
            "Index([   766,    968,   3615,   3626,   3703,   3883,   3912,   3980,   3996,\n",
            "         4060,\n",
            "       ...\n",
            "       130759, 130936, 130945, 131183, 131330, 131905, 133245, 133618, 134035,\n",
            "       135343],\n",
            "      dtype='int64', name='ID', length=384)\n",
            "            ID                        Name Sex   Age  Height  Weight  \\\n",
            "1351       766                     Ji Adam   M  25.0   187.0    83.0   \n",
            "1352       766                     Ji Adam   M  25.0   187.0    83.0   \n",
            "1353       766                     Ji Adam   M  29.0   187.0    83.0   \n",
            "1738       968     Margarete \"Grete\" Adler   F  16.0     NaN     NaN   \n",
            "1739       968     Margarete \"Grete\" Adler   F  16.0     NaN     NaN   \n",
            "...        ...                         ...  ..   ...     ...     ...   \n",
            "270606  135343  Aleksandr Yuryevich Zubkov   M  31.0   189.0   102.0   \n",
            "270607  135343  Aleksandr Yuryevich Zubkov   M  35.0   189.0   102.0   \n",
            "270608  135343  Aleksandr Yuryevich Zubkov   M  35.0   189.0   102.0   \n",
            "270609  135343  Aleksandr Yuryevich Zubkov   M  39.0   189.0   102.0   \n",
            "270610  135343  Aleksandr Yuryevich Zubkov   M  39.0   189.0   102.0   \n",
            "\n",
            "                  Team  NOC        Games  Year  Season       City  \\\n",
            "1351    Czechoslovakia  TCH  1976 Summer  1976  Summer   Montreal   \n",
            "1352    Czechoslovakia  TCH  1976 Summer  1976  Summer   Montreal   \n",
            "1353    Czechoslovakia  TCH  1980 Summer  1980  Summer     Moskva   \n",
            "1738           Austria  AUT  1912 Summer  1912  Summer  Stockholm   \n",
            "1739           Austria  AUT  1912 Summer  1912  Summer  Stockholm   \n",
            "...                ...  ...          ...   ...     ...        ...   \n",
            "270606        Russia-1  RUS  2006 Winter  2006  Winter     Torino   \n",
            "270607        Russia-1  RUS  2010 Winter  2010  Winter  Vancouver   \n",
            "270608        Russia-2  RUS  2010 Winter  2010  Winter  Vancouver   \n",
            "270609        Russia-1  RUS  2014 Winter  2014  Winter      Sochi   \n",
            "270610        Russia-1  RUS  2014 Winter  2014  Winter      Sochi   \n",
            "\n",
            "                    Sport                                            Event  \\\n",
            "1351    Modern Pentathlon               Modern Pentathlon Men's Individual   \n",
            "1352    Modern Pentathlon                     Modern Pentathlon Men's Team   \n",
            "1353              Fencing                         Fencing Men's epee, Team   \n",
            "1738             Swimming            Swimming Women's 100 metres Freestyle   \n",
            "1739             Swimming  Swimming Women's 4 x 100 metres Freestyle Relay   \n",
            "...                   ...                                              ...   \n",
            "270606          Bobsleigh                             Bobsleigh Men's Four   \n",
            "270607          Bobsleigh                              Bobsleigh Men's Two   \n",
            "270608          Bobsleigh                             Bobsleigh Men's Four   \n",
            "270609          Bobsleigh                              Bobsleigh Men's Two   \n",
            "270610          Bobsleigh                             Bobsleigh Men's Four   \n",
            "\n",
            "         Medal  \n",
            "1351       NaN  \n",
            "1352    Silver  \n",
            "1353       NaN  \n",
            "1738       NaN  \n",
            "1739    Bronze  \n",
            "...        ...  \n",
            "270606  Silver  \n",
            "270607  Bronze  \n",
            "270608     NaN  \n",
            "270609    Gold  \n",
            "270610    Gold  \n",
            "\n",
            "[1938 rows x 15 columns]\n"
          ]
        }
      ]
    },
    {
      "cell_type": "markdown",
      "metadata": {
        "id": "b6JJSfHiVDG-"
      },
      "source": [
        "## Question 6\n",
        "\n",
        "Identify the top 3 most common sports in which athletes have won a Gold medal. List the sports in descending order of frequency."
      ]
    },
    {
      "cell_type": "code",
      "metadata": {
        "id": "QJB0tpFOVDG-",
        "outputId": "a44de0e4-7a61-47b9-b8bd-7596044abef3",
        "colab": {
          "base_uri": "https://localhost:8080/"
        }
      },
      "source": [
        "# Your code goes here\n",
        "gold = athelete_events[athelete_events['Medal'] == \"Gold\"]\n",
        "sport_count = gold.groupby('Sport')['ID'].count()\n",
        "commmon_sport = sport_count.sort_values(ascending= False).reset_index()\n",
        "print(f\"The top 3 common sports are: \\n\\n {commmon_sport[0:3]}\")"
      ],
      "execution_count": 32,
      "outputs": [
        {
          "output_type": "stream",
          "name": "stdout",
          "text": [
            "The top 3 common sports are: \n",
            "\n",
            "        Sport    ID\n",
            "0  Athletics  1339\n",
            "1   Swimming  1099\n",
            "2     Rowing   978\n"
          ]
        }
      ]
    },
    {
      "cell_type": "markdown",
      "source": [
        "## Question 7\n",
        "\n",
        "As part of a sponsorship deal, a company wants to endorse athletes who have a consistent performance in the Olympics. The company defines consistency for athletes who have participated more than one year and those who have won at least one medal in every year.\n",
        "\n",
        "How many such athletes exist?\n",
        "\n"
      ],
      "metadata": {
        "id": "ZRcRJsx8YDef"
      }
    },
    {
      "cell_type": "code",
      "source": [
        "# Your code goes here\n",
        "years_id = athelete_events.groupby(\"ID\")[\"Year\"].nunique()\n",
        "medals_recount = athelete_events.groupby([\"ID\", \"Year\"])[\"Medal\"].count()\n",
        "medal_year = (medals_recount > 0)\n",
        "medal_sum = medal_year.groupby('ID').sum()\n",
        "year_count = medals_recount.groupby('ID').count()\n",
        "eligible_medal = (medal_sum==year_count)\n",
        "eligible_consistent = eligible_medal & (years_id >1)\n",
        "print(\"Number of consistent athletes:\", eligible_consistent.sum())\n"
      ],
      "metadata": {
        "id": "k76RQNAfZUkt",
        "outputId": "087fa6dd-5bb9-443f-8ba0-b67357ee405f",
        "colab": {
          "base_uri": "https://localhost:8080/"
        }
      },
      "execution_count": 44,
      "outputs": [
        {
          "output_type": "stream",
          "name": "stdout",
          "text": [
            "Number of consistent athletes: 3375\n"
          ]
        }
      ]
    },
    {
      "cell_type": "markdown",
      "source": [
        "## Question 8\n",
        "\n",
        "A sports analytics firm wants to identify athletes who have shown versatility by competing in both individual and team sports. The firm is particularly interested in those who have won at least one medal in both types of events.\n",
        "\n",
        "Provide the total number of athletes who have won medals in both individual and team sports.\n",
        "\n",
        "Note: The following is a list of all team sports to reference for this question:\n",
        "\n",
        "```\n",
        "['Basketball', 'Football', 'Tug-Of-War', 'Ice Hockey', 'Handball', 'Water Polo', 'Hockey', 'Rowing', 'Bobsleigh', 'Sailing', 'Baseball', 'Softball',\n",
        "'Rugby Sevens', 'Volleyball', 'Beach Volleyball', 'Synchronized Swimming' 'Curling', 'Lacrosse', 'Polo', 'Cricket', 'Military Ski Patrol', 'Croquet']\n",
        "```"
      ],
      "metadata": {
        "id": "b3MTXfoykQ4E"
      }
    },
    {
      "cell_type": "code",
      "source": [
        "# Your code goes here\n",
        "teamsports = ['Basketball', 'Football', 'Tug-Of-War', 'Ice Hockey', 'Handball', 'Water Polo', 'Hockey', 'Rowing', 'Bobsleigh', 'Sailing', 'Baseball', 'Softball',\n",
        "'Rugby Sevens', 'Volleyball', 'Beach Volleyball', 'Synchronized Swimming' 'Curling', 'Lacrosse', 'Polo', 'Cricket', 'Military Ski Patrol', 'Croquet']\n",
        "\n",
        "medal_notnull = athelete_events[athelete_events['Medal'].notnull()].copy()\n",
        "medal_notnull['is_team'] = medal_notnull['Sport'].isin(teamsports)\n",
        "team_ids = medal_notnull[medal_notnull['Sport'].isin(teamsports)]['ID'].unique()\n",
        "indiv_ids = medal_notnull[medal_notnull['Sport'].isin(teamsports) == False]['ID'].unique()\n",
        "eligible_ver = set(team_ids) & set(indiv_ids)\n",
        "print(f\"Total number of eligible athletes: {len(eligible_ver)}\")"
      ],
      "metadata": {
        "id": "3hlZ-1pkYNyH",
        "outputId": "bde045b7-5243-4aa5-b6c1-ff1f670333de",
        "colab": {
          "base_uri": "https://localhost:8080/"
        }
      },
      "execution_count": 50,
      "outputs": [
        {
          "output_type": "stream",
          "name": "stdout",
          "text": [
            "Total number of eligible athletes: 48\n"
          ]
        }
      ]
    },
    {
      "cell_type": "markdown",
      "source": [
        "## Question 9\n",
        "\n",
        "A sports health association is analyzing athletes' BMI to assess fitness, defining \"fit\" as those in the Normal weight category.\n",
        "\n",
        "1. Create a **BMI** column using **Height** and **Weight**:  \n",
        "$BMI=\\frac{(Weight_{kg})}{Height_m^2}$\n",
        "\n",
        "Fill missing Height and Weight values with average within the same Sex group and round BMI to 1 decimal place.\n",
        "\n",
        "2. Count the number of \"fit\" athletes in the BMI range of 20-28 (inclusive).\n",
        "\n",
        "Note: some athletes might have different weights and heights over the years. Take an average over all their measurements."
      ],
      "metadata": {
        "id": "IJ19FSsv2P5X"
      }
    },
    {
      "cell_type": "code",
      "source": [
        "# Your code goes here\n",
        "male_height_mean = athelete_events[athelete_events['Sex'] == 'M']['Height'].mean()\n",
        "female_height_mean = athelete_events[athelete_events['Sex'] == 'F']['Height'].mean()\n",
        "\n",
        "male_weight_mean = athelete_events[athelete_events['Sex'] == 'M']['Weight'].mean()\n",
        "female_weight_mean = athelete_events[athelete_events['Sex'] == 'F']['Weight'].mean()\n",
        "athelete_events.loc[(athelete_events['Sex'] == 'M') & (athelete_events['Height'].isna()), 'Height'] = male_height_mean\n",
        "athelete_events.loc[(athelete_events['Sex'] == 'F') & (athelete_events['Height'].isna()), 'Height'] = female_height_mean\n",
        "athelete_events.loc[(athelete_events['Sex'] == 'M') & (athelete_events['Weight'].isna()), 'Weight'] = male_weight_mean\n",
        "athelete_events.loc[(athelete_events['Sex'] == 'F') & (athelete_events['Weight'].isna()), 'Weight'] = female_weight_mean\n",
        "\n",
        "athelete_events['BMI'] = athelete_events['Weight'] / ((athelete_events['Height'] / 100) ** 2)\n",
        "athelete_events['BMI'] = athelete_events['BMI'].round(1)\n",
        "avg_bmiid = athelete_events.groupby('ID')['BMI'].mean()\n",
        "fit_athletes = avg_bmiid[(avg_bmiid >= 20) & (avg_bmiid <= 28)]\n",
        "print(\"Number of 'fit' athletes:\", fit_athletes.count())\n"
      ],
      "metadata": {
        "id": "BGHU4E8v2qTK",
        "outputId": "632c44cf-f9d2-48bb-f3a1-c44e5ba1971b",
        "colab": {
          "base_uri": "https://localhost:8080/"
        }
      },
      "execution_count": 52,
      "outputs": [
        {
          "output_type": "stream",
          "name": "stdout",
          "text": [
            "Number of 'fit' athletes: 116936\n"
          ]
        }
      ]
    }
  ]
}