{
  "cells": [
    {
      "cell_type": "code",
      "execution_count": 6,
      "metadata": {
        "id": "Qz8NhXDlPRQz"
      },
      "outputs": [],
      "source": [
        "# This cell is used to load the hints and solutions, if needed\n",
        "from IPython.display import Pretty as disp\n",
        "hint = 'https://raw.githubusercontent.com/soltaniehha/Business-Analytics/master/docs/hints/'  # path to hints on GitHub"
      ]
    },
    {
      "cell_type": "markdown",
      "metadata": {
        "id": "Dgz80FppOMoX"
      },
      "source": [
        "# Exercise 1\n",
        "How can you improve the syntax used in the following code cells?\n",
        "\n",
        "Consider conventions, and code readability."
      ]
    },
    {
      "cell_type": "code",
      "execution_count": 2,
      "metadata": {
        "id": "0ERoHwbIOMoc"
      },
      "outputs": [],
      "source": [
        "x=  4+ 1"
      ]
    },
    {
      "cell_type": "code",
      "execution_count": 3,
      "metadata": {
        "id": "fsyiyWbjP0vQ"
      },
      "outputs": [
        {
          "name": "stdout",
          "output_type": "stream",
          "text": [
            "5\n"
          ]
        }
      ],
      "source": [
        "# HINT: Uncomment and execute the cell below to get help\n",
        "#disp(hint + '02-01-ex01-a-hint')\n",
        "num=(4,1)\n",
        "x=num[0]+num[1]\n",
        "print(x)"
      ]
    },
    {
      "cell_type": "code",
      "execution_count": 7,
      "metadata": {
        "id": "aDi883v0PDTH"
      },
      "outputs": [
        {
          "data": {
            "text/plain": [
              "x = 4 + 1\n"
            ]
          },
          "execution_count": 7,
          "metadata": {},
          "output_type": "execute_result"
        }
      ],
      "source": [
        "# SOLUTION: Uncomment and execute the cell below to get hel\n",
        "disp(hint + '02-01-ex01-a')"
      ]
    },
    {
      "cell_type": "code",
      "execution_count": 9,
      "metadata": {
        "id": "mHCVNBkrOMoc",
        "outputId": "0432c903-40d9-4a7a-81c8-2dd171ba1a6e"
      },
      "outputs": [
        {
          "name": "stdout",
          "output_type": "stream",
          "text": [
            "7\n",
            "8\n",
            "9\n"
          ]
        }
      ],
      "source": [
        "print(x)\n",
        "x = x + 1\n",
        "print(x)\n",
        "x += 1\n",
        "print(x)"
      ]
    },
    {
      "cell_type": "code",
      "execution_count": 10,
      "metadata": {
        "id": "T6-uLe86Pmes"
      },
      "outputs": [
        {
          "data": {
            "text/plain": [
              "print(x) \n",
              "\n",
              "x = x + 1 \n",
              "print(x) \n",
              "\n",
              "x += 1\n",
              "print(x)\n"
            ]
          },
          "execution_count": 10,
          "metadata": {},
          "output_type": "execute_result"
        }
      ],
      "source": [
        "# SOLUTION: Uncomment and execute the cell below to get help\n",
        "disp(hint + '02-01-ex01-b')"
      ]
    },
    {
      "cell_type": "code",
      "execution_count": null,
      "metadata": {
        "id": "LsF9qusFOMod",
        "outputId": "ebe49471-2a86-4af1-ac09-b1f460a5ebd6"
      },
      "outputs": [
        {
          "name": "stdout",
          "output_type": "stream",
          "text": [
            "0 is a multiple of 3!\n",
            "3 is a multiple of 3!\n",
            "6 is a multiple of 3!\n",
            "9 is a multiple of 3!\n"
          ]
        }
      ],
      "source": [
        "for i in range(10):\n",
        "    if i % 3 == 0 :  # checks to see if i is a multiple of 3\n",
        "         print(i, 'is a multiple of 3!')"
      ]
    },
    {
      "cell_type": "code",
      "execution_count": 11,
      "metadata": {
        "id": "sSJ15iZ9QFgI"
      },
      "outputs": [
        {
          "data": {
            "text/plain": [
              "for i in range(10):\n",
              "    if i % 3 == 0 :  # checks to see if i is a multiple of 3\n",
              "        print(i, 'is a multiple of 3!')\n"
            ]
          },
          "execution_count": 11,
          "metadata": {},
          "output_type": "execute_result"
        }
      ],
      "source": [
        "# SOLUTION: Uncomment and execute the cell below to get help\n",
        "disp(hint + '02-01-ex01-c')"
      ]
    },
    {
      "cell_type": "code",
      "execution_count": 12,
      "metadata": {
        "id": "RfRd1xUQOMod",
        "outputId": "6199dfbb-4dcd-4968-be01-126fc30fdb10"
      },
      "outputs": [],
      "source": [
        "result= 2*8 + 8/4 -9+ 2*1 -1"
      ]
    },
    {
      "cell_type": "code",
      "execution_count": 13,
      "metadata": {
        "id": "i_eeAZNeQNuw"
      },
      "outputs": [
        {
          "data": {
            "text/plain": [
              "(2*8) + (8/4) - 9 + (2*1) - 1\n"
            ]
          },
          "execution_count": 13,
          "metadata": {},
          "output_type": "execute_result"
        }
      ],
      "source": [
        "# SOLUTION: Uncomment and execute the cell below to get help\n",
        "disp(hint + '02-01-ex01-d')"
      ]
    },
    {
      "cell_type": "markdown",
      "metadata": {
        "id": "H_kbXQrGOMoe"
      },
      "source": [
        "# Exercise 2\n",
        "Create a variable `savings` and give it value 200"
      ]
    },
    {
      "cell_type": "code",
      "execution_count": null,
      "metadata": {
        "id": "hlGLw_2EOMoe"
      },
      "outputs": [],
      "source": [
        "# Your answer goes here\n",
        "savings=200"
      ]
    },
    {
      "cell_type": "code",
      "execution_count": 15,
      "metadata": {
        "id": "fYsFWqrlQgW5"
      },
      "outputs": [
        {
          "data": {
            "text/plain": [
              "savings = 200\n"
            ]
          },
          "execution_count": 15,
          "metadata": {},
          "output_type": "execute_result"
        }
      ],
      "source": [
        "# SOLUTION: Uncomment and execute the cell below to get help\n",
        "disp(hint + '02-01-ex02-a')"
      ]
    },
    {
      "cell_type": "markdown",
      "metadata": {
        "id": "SlS2MEcCOMoe"
      },
      "source": [
        "Create a variable `factor` and assign it value 1.1"
      ]
    },
    {
      "cell_type": "code",
      "execution_count": null,
      "metadata": {
        "id": "Yp6mrZfbOMoe"
      },
      "outputs": [],
      "source": [
        "# Your answer goes here\n",
        "factor=1.1"
      ]
    },
    {
      "cell_type": "code",
      "execution_count": 16,
      "metadata": {
        "id": "ts0YnFSEQovL"
      },
      "outputs": [
        {
          "data": {
            "text/plain": [
              "factor = 1.1\n"
            ]
          },
          "execution_count": 16,
          "metadata": {},
          "output_type": "execute_result"
        }
      ],
      "source": [
        "# SOLUTION: Uncomment and execute the cell below to get help\n",
        "disp(hint + '02-01-ex02-b')"
      ]
    },
    {
      "cell_type": "markdown",
      "metadata": {
        "id": "zbI5XvEYOMof"
      },
      "source": [
        "Calculate `balance`:"
      ]
    },
    {
      "cell_type": "code",
      "execution_count": 18,
      "metadata": {
        "id": "FBBxiSsJOMof"
      },
      "outputs": [],
      "source": [
        "savings=200\n",
        "factor=1.1\n",
        "\n",
        "balance = savings * factor ** 5\n"
      ]
    },
    {
      "cell_type": "markdown",
      "metadata": {
        "id": "Xru-33ZgOMof"
      },
      "source": [
        "Now print a statement that says something like \"Your account balance after 5 years would be: $xxx\" and use the value of `balance` to populate xxx:"
      ]
    },
    {
      "cell_type": "code",
      "execution_count": 20,
      "metadata": {
        "id": "G4BEOYnfOMof",
        "outputId": "f3063638-bcc3-42d0-9b6d-f614a270c6d9"
      },
      "outputs": [
        {
          "name": "stdout",
          "output_type": "stream",
          "text": [
            "your balance is 322.1020000000001\n"
          ]
        }
      ],
      "source": [
        "print(\"your balance is\",balance)\n"
      ]
    },
    {
      "cell_type": "code",
      "execution_count": 19,
      "metadata": {
        "id": "pfgud1TOQx0o"
      },
      "outputs": [
        {
          "data": {
            "text/plain": [
              "print('Your account balance after 5 years would be: $', balance)\n"
            ]
          },
          "execution_count": 19,
          "metadata": {},
          "output_type": "execute_result"
        }
      ],
      "source": [
        "# SOLUTION: Uncomment and execute the cell below to get help\n",
        "disp(hint + '02-01-ex02-c')"
      ]
    },
    {
      "cell_type": "markdown",
      "metadata": {
        "id": "j5z9BSj9OMof"
      },
      "source": [
        "Let's make two modifications to this:\n",
        "* use `sep = ''` in print function to avoid the extra space between dollar sign and balance value.\n",
        "* use `round()` function to round to two decimals\n",
        "\n",
        "Note: Use `?round` in a new cell to get help from the help function."
      ]
    },
    {
      "cell_type": "code",
      "execution_count": null,
      "metadata": {
        "id": "wd8hnFKDOMog",
        "outputId": "67ed92bc-9905-464d-f25f-da0d7f03723e"
      },
      "outputs": [
        {
          "name": "stdout",
          "output_type": "stream",
          "text": [
            "Your account balance after 5 years would be: $322.1\n"
          ]
        }
      ],
      "source": [
        "# Your answer goes here\n"
      ]
    },
    {
      "cell_type": "code",
      "execution_count": null,
      "metadata": {
        "id": "K1ZQC7TfQ35D"
      },
      "outputs": [],
      "source": [
        "# SOLUTION: Uncomment and execute the cell below to get help\n",
        "#disp(hint + '02-01-ex02-d')"
      ]
    },
    {
      "cell_type": "markdown",
      "metadata": {
        "id": "RyNTgcOoOMog"
      },
      "source": [
        "# Exercise 3\n",
        "The value of pi is given below in a string/character format:"
      ]
    },
    {
      "cell_type": "code",
      "execution_count": null,
      "metadata": {
        "id": "UOcoQsflOMog",
        "outputId": "effc0b01-7154-4400-892a-c5717520e91b"
      },
      "outputs": [
        {
          "data": {
            "text/plain": [
              "str"
            ]
          },
          "execution_count": 6,
          "metadata": {
            "tags": []
          },
          "output_type": "execute_result"
        }
      ],
      "source": [
        "pi_char = \"3.1415926535\"\n",
        "type(pi_char)"
      ]
    },
    {
      "cell_type": "markdown",
      "metadata": {
        "id": "Dosji50-OMog"
      },
      "source": [
        "Google and find a function that would convert it to float so we can use it in math equations, call this new converted value `pi`"
      ]
    },
    {
      "cell_type": "code",
      "execution_count": null,
      "metadata": {
        "id": "R8FOKf03OMog"
      },
      "outputs": [],
      "source": [
        "# Your answer goes here\n"
      ]
    },
    {
      "cell_type": "code",
      "execution_count": null,
      "metadata": {
        "id": "gJ_335Y2Q-Tz"
      },
      "outputs": [],
      "source": [
        "# SOLUTION: Uncomment and execute the cell below to get help\n",
        "#disp(hint + '02-01-ex03-a')"
      ]
    },
    {
      "cell_type": "markdown",
      "metadata": {
        "id": "tiTydXSNOMog"
      },
      "source": [
        "Using this variable calculate the area of a circle with radius `r = 2` and print a rounded value for area (up to 3 decimals):"
      ]
    },
    {
      "cell_type": "code",
      "execution_count": null,
      "metadata": {
        "id": "mUbqtQIDOMoh",
        "outputId": "43d794e2-058f-41e3-fb69-0332622f768f"
      },
      "outputs": [
        {
          "name": "stdout",
          "output_type": "stream",
          "text": [
            "The area of a circle with radius 2 is 12.566\n"
          ]
        }
      ],
      "source": [
        "# Your answer goes here\n"
      ]
    },
    {
      "cell_type": "code",
      "execution_count": null,
      "metadata": {
        "id": "yHPKuQLzRH95"
      },
      "outputs": [],
      "source": [
        "# SOLUTION: Uncomment and execute the cell below to get help\n",
        "#disp(hint + '02-01-ex03-b')"
      ]
    },
    {
      "cell_type": "markdown",
      "metadata": {
        "id": "U_YrXEEEOMoh"
      },
      "source": [
        "# Exercise 4\n",
        "What is the quotient and remainder of 67432/98?"
      ]
    },
    {
      "cell_type": "code",
      "execution_count": null,
      "metadata": {
        "id": "EylwRuyfOMoh",
        "outputId": "fe3b29f8-c536-454c-9c4d-97d5b1d06e69"
      },
      "outputs": [
        {
          "name": "stdout",
          "output_type": "stream",
          "text": [
            "Quotient of 67432/98: 688\n",
            "Remainder of 67432/98: 8\n"
          ]
        }
      ],
      "source": [
        "# Your answer goes here\n"
      ]
    },
    {
      "cell_type": "code",
      "execution_count": null,
      "metadata": {
        "id": "_5UAAU-VRLb9"
      },
      "outputs": [],
      "source": [
        "# SOLUTION: Uncomment and execute the cell below to get help\n",
        "#disp(hint + '02-01-ex04')"
      ]
    },
    {
      "cell_type": "markdown",
      "metadata": {
        "id": "eGjD1P5hOMoh"
      },
      "source": [
        "# Exercise 5\n",
        "Write a statement to check whether `a` is a multiple of 5 and within the range of 100-150 or 0-50. Check your statement with the following values and it should give you the following values:\n",
        "\n",
        "55 --> False\n",
        "\n",
        "110 --> True\n",
        "\n",
        "-25 --> False\n",
        "\n",
        "150 --> False\n",
        "\n",
        "100 --> True"
      ]
    },
    {
      "cell_type": "code",
      "execution_count": null,
      "metadata": {
        "id": "0cTTpug-OMoh"
      },
      "outputs": [],
      "source": [
        "# Your answer goes here\n"
      ]
    },
    {
      "cell_type": "code",
      "execution_count": null,
      "metadata": {
        "id": "2AKItRrRRR5A"
      },
      "outputs": [],
      "source": [
        "# SOLUTION: Uncomment and execute the cell below to get help\n",
        "#disp(hint + '02-01-ex05')"
      ]
    }
  ],
  "metadata": {
    "colab": {
      "collapsed_sections": [],
      "name": "Exercise-01-Python-Syntax-and-Semantics.ipynb",
      "provenance": []
    },
    "kernelspec": {
      "display_name": "base",
      "language": "python",
      "name": "python3"
    },
    "language_info": {
      "codemirror_mode": {
        "name": "ipython",
        "version": 3
      },
      "file_extension": ".py",
      "mimetype": "text/x-python",
      "name": "python",
      "nbconvert_exporter": "python",
      "pygments_lexer": "ipython3",
      "version": "3.13.5"
    }
  },
  "nbformat": 4,
  "nbformat_minor": 0
}
