{
  "cells": [
    {
      "cell_type": "markdown",
      "metadata": {},
      "source": [
        "# Day 3: Python Loops, Functions, and Basic Algorithms\n",
        "## Instructions & Exercises\n",
        "\n",
        "Welcome to Day 3! Today you will practice writing loops, organizing code with functions, and implementing simple algorithms. We build on Days 1–2 and do not repeat earlier topics.\n",
        "\n",
        "---\n"
      ]
    },
    {
      "cell_type": "markdown",
      "metadata": {},
      "source": [
        "## 🎯 Learning Objectives\n",
        "\n",
        "By the end of this lesson, you will be able to:\n",
        "1. Use `for` and `while` loops to iterate and control repetition\n",
        "2. Define and call functions with parameters and return values\n",
        "3. Implement simple algorithms (linear search, max) using loops and functions\n",
        "\n",
        "---\n"
      ]
    },
    {
      "cell_type": "markdown",
      "metadata": {},
      "source": [
        "## 🔁 Section 1: Loops\n",
        "\n",
        "### Exercise 1.1: For Loop — Sales Summary\n",
        "Given `sales = [120, 98, 145, 130, 160, 150]`:\n",
        "1. Use a `for` loop to compute `total`\n",
        "2. Compute `average` using `total` and `len`\n",
        "3. Print `min`, `max`, and `average` (rounded to 2 decimals)"
      ]
    },
    {
      "cell_type": "code",
      "execution_count": 22,
      "metadata": {},
      "outputs": [
        {
          "name": "stdout",
          "output_type": "stream",
          "text": [
            "803\n",
            "average is 133.83, minimum index is 98,max index is 160\n"
          ]
        }
      ],
      "source": [
        "# Exercise 1.1: Your code here\n",
        "\n",
        "sales = [120, 98, 145, 130, 160, 150]\n",
        "total = 0\n",
        "for i in range(len(sales)):\n",
        "    total+=sales[i]\n",
        "print(total)\n",
        "\n",
        "\n",
        "\n",
        "\n",
        "average=round(total/len(sales),2)\n",
        "\n",
        "min_index=min(sales)\n",
        "max_index=max(sales)\n",
        "\n",
        "print(f\"average is {average}, minimum index is {min_index},max index is {max_index}\")\n",
        "\n"
      ]
    },
    {
      "cell_type": "markdown",
      "metadata": {},
      "source": [
        "### Exercise 1.2: While Loop — Savings Simulator\n",
        "Simulate saving money until a goal is reached.\n",
        "- Start with `balance = 0`\n",
        "- Each month add `deposit = 250`\n",
        "- Stop when `balance >= goal` where `goal = 2000`\n",
        "- Count months and print the final `balance` and `months`\n",
        "\n"
      ]
    },
    {
      "cell_type": "code",
      "execution_count": 20,
      "metadata": {},
      "outputs": [
        {
          "name": "stdout",
          "output_type": "stream",
          "text": [
            "2000\n",
            "you need 8 months to deposit.\n"
          ]
        }
      ],
      "source": [
        "# Exercise 1.2: Your code here\n",
        "\n",
        "balance = 0\n",
        "deposit = 250\n",
        "goal = 2000\n",
        "\n",
        "while True:\n",
        "    if balance<goal:\n",
        "        balance +=250\n",
        "    elif balance== goal:\n",
        "        break\n",
        "\n",
        "print (balance)\n",
        "\n",
        "months=round(balance/deposit)\n",
        "print(f\"you need {months} months to deposit.\")\n"
      ]
    },
    {
      "cell_type": "markdown",
      "metadata": {},
      "source": [
        "\n",
        "### Exercise 1.3: Loop Patterns — Filter and Transform\n",
        "Given `temperatures = [72, 65, 88, 90, 67, 73, 85]`:\n",
        "1. Build a new list `hot_days` containing temps >= 80 (using a loop)\n",
        "2. Build `celsius` list converting each temp to Celsius: `(f - 32) * 5/9`"
      ]
    },
    {
      "cell_type": "code",
      "execution_count": 37,
      "metadata": {},
      "outputs": [
        {
          "name": "stdout",
          "output_type": "stream",
          "text": [
            "hotdays are:[88, 90, 85]. Transferring to celsius: [31.11, 32.22, 29.44]\n"
          ]
        }
      ],
      "source": [
        "# Exercise 1.3: Your code here\n",
        "\n",
        "temperatures = [72, 65, 88, 90, 67, 73, 85]\n",
        "celsius= []\n",
        "hotdays=[]\n",
        "for i in range(len(temperatures)):\n",
        "    if temperatures[i]<80:\n",
        "        continue\n",
        "    elif temperatures[i]>=80:\n",
        "        hotdays.append(temperatures[i])\n",
        "        tempcal=round((temperatures[i]-32) * 5/9,2)\n",
        "        celsius.append(tempcal)\n",
        "       \n",
        "        \n",
        "print(f\"hotdays are:{hotdays}. Transferring to celsius: {celsius}\")\n",
        "    \n"
      ]
    },
    {
      "cell_type": "code",
      "execution_count": null,
      "metadata": {},
      "outputs": [],
      "source": []
    },
    {
      "cell_type": "markdown",
      "metadata": {},
      "source": [
        "---\n",
        "\n",
        "## 🧩 Section 2: Functions\n",
        "\n",
        "### Exercise 2.1: Summary Statistics Function\n",
        "Write a function `summary_stats(numbers)` that returns a dictionary with `min`, `max`, and `mean` (rounded to 2 decimals) for a list of numbers. Test with `sales` from Exercise 1.1."
      ]
    },
    {
      "cell_type": "code",
      "execution_count": 43,
      "metadata": {},
      "outputs": [
        {
          "name": "stdout",
          "output_type": "stream",
          "text": [
            "{'min': 98, 'max': 160, 'mean': 134}\n"
          ]
        }
      ],
      "source": [
        "# Exercise 2.1: Your code here\n",
        "sales = [120, 98, 145, 130, 160, 150]\n",
        "\n",
        "def summary_stats(numbers):\n",
        "    total = 0\n",
        "    for i in range(len(numbers)):\n",
        "        total+=numbers[i]\n",
        "    mean=round(total/len(numbers))\n",
        "    max_index=max(numbers)\n",
        "    min_index=min(numbers)\n",
        "    return{\"min\":min_index,\"max\":max_index,\"mean\":mean}\n",
        "\n",
        "print(summary_stats(sales))\n",
        "    \n",
        "\n",
        "    \n",
        "\n",
        "\n"
      ]
    },
    {
      "cell_type": "markdown",
      "metadata": {},
      "source": [
        "### Exercise 2.2: Parameter Defaults\n",
        "Write `apply_discount` that returns the discounted amount and uses a 5% default value for discount. Test with two calls: one using the default, one passing `rate=0.12`. (price = $100.00)"
      ]
    },
    {
      "cell_type": "code",
      "execution_count": 44,
      "metadata": {},
      "outputs": [
        {
          "name": "stdout",
          "output_type": "stream",
          "text": [
            "95.0\n",
            "88.0\n"
          ]
        }
      ],
      "source": [
        "# Exercise 2.2: Your code here\n",
        "def apply_discount(price,rate=0.05):\n",
        "    discounted_price = price * (1 - rate)\n",
        "    return round(discounted_price, 2)\n",
        "\n",
        "print(apply_discount(100))       \n",
        "print(apply_discount(100, 0.12))"
      ]
    },
    {
      "cell_type": "markdown",
      "metadata": {},
      "source": [
        "### Exercise 2.3: Pure Function vs. Side Effects\n",
        "A pure function is a function that:\n",
        "\n",
        "* Always gives the same output for the same inputs.\n",
        "* Does not change anything outside the function (it does not modify variables, lists, or other data that were created outside of it).\n",
        "\n",
        "External state means any variable, object, or data structure that exists outside the function — for example, a list or variable defined before the function is called. If a function changes this external state, it has a side effect.\n",
        "\n",
        "Your task:\n",
        "1. Write a function add_points(current, points) that returns a new total score.\n",
        "\n",
        "2. Write a function append_note(notes, msg) that takes a list of notes and a message, and appends the message to the list.\n",
        "\n",
        "3. Explain which function is pure and why."
      ]
    },
    {
      "cell_type": "code",
      "execution_count": null,
      "metadata": {},
      "outputs": [
        {
          "name": "stdout",
          "output_type": "stream",
          "text": [
            "10010\n",
            "['Task 1', 'Task 2', 'Task 3']\n"
          ]
        }
      ],
      "source": [
        "# Exercise 2.3: Your code here\n",
        "def add_points(current, points):\n",
        "    return current + points\n",
        "\n",
        "def append_note(notes, msg):\n",
        "    notes.append(msg)  \n",
        "    return notes\n",
        "#test\n",
        "score = 10000\n",
        "new_score = add_points(score, 10)\n",
        "print(new_score) \n",
        "\n",
        "notes_list = [\"Task 1\", \"Task 2\"]\n",
        "append_note(notes_list, \"Task 3\")\n",
        "print(notes_list)\n",
        "\n",
        "#addpoitns is pure because external  don't change the internal while append_notes don't."
      ]
    },
    {
      "cell_type": "markdown",
      "metadata": {},
      "source": [
        "---\n",
        "\n",
        "## 🧠 Section 3: Basic Algorithms\n",
        "\n",
        "### Exercise 3.1: Linear Search\n",
        "Implement `linear_search(items, target)` to return the index of `target` in `items`, or `-1` if not found. Test with `items = [\"red\", \"blue\", \"green\", \"blue\"]` and `target = \"green\"."
      ]
    },
    {
      "cell_type": "code",
      "execution_count": 47,
      "metadata": {},
      "outputs": [
        {
          "name": "stdout",
          "output_type": "stream",
          "text": [
            "2\n"
          ]
        }
      ],
      "source": [
        "# Exercise 3.1: Your code here\n",
        "def linear_search(items, target):\n",
        "    for i in range(len(items)):\n",
        "        if items[i] == target:\n",
        "            return i\n",
        "    return -1  \n",
        "\n",
        "items = [\"red\", \"blue\", \"green\", \"blue\"]\n",
        "target = \"green\"\n",
        "result = linear_search(items, target)\n",
        "print(result) \n"
      ]
    },
    {
      "cell_type": "markdown",
      "metadata": {},
      "source": [
        "(part 2) How does the behavior change once checking for \"blue\"? Can you fix the problem?"
      ]
    },
    {
      "cell_type": "code",
      "execution_count": 48,
      "metadata": {},
      "outputs": [
        {
          "name": "stdout",
          "output_type": "stream",
          "text": [
            "[2]\n",
            "[1, 3]\n",
            "-1\n"
          ]
        }
      ],
      "source": [
        "# Exercise 3.1: Your code here (second part)\n",
        "\n",
        "def linear_search(items, target):\n",
        "    indices = []\n",
        "    for i in range(len(items)):\n",
        "        if items[i] == target:\n",
        "            indices.append(i)\n",
        "    if indices:\n",
        "        return indices\n",
        "    else:\n",
        "        return -1\n",
        "\n",
        "\n",
        "items = [\"red\", \"blue\", \"green\", \"blue\"]\n",
        "\n",
        "print(linear_search(items, \"green\"))  \n",
        "print(linear_search(items, \"blue\"))\n",
        "print(linear_search(items, \"yellow\")) "
      ]
    },
    {
      "cell_type": "markdown",
      "metadata": {},
      "source": [
        "### Exercise 3.2: Find Maximum/Minimum (Manual)\n",
        "Without using `max()` or `min()`, iterate **once** over `numbers = [7, 3, 11, 4, 9]` to compute both `min_val` and `max_val`."
      ]
    },
    {
      "cell_type": "code",
      "execution_count": null,
      "metadata": {},
      "outputs": [],
      "source": [
        "# Exercise 3.2: Your code here\n",
        "numbers = [7, 3, 11, 4, 9]\n",
        "\n",
        "min_val = numbers[0]\n",
        "max_val = numbers[0]\n",
        "for num in numbers:\n",
        "    if num < min_val:\n",
        "        min_val = num\n",
        "    elif num > max_val:\n",
        "        max_val = num\n",
        "\n",
        "print(\"Minimum value:\", min_val)\n",
        "print(\"Maximum value:\", max_val)\n"
      ]
    },
    {
      "cell_type": "markdown",
      "metadata": {},
      "source": [
        "### Exercise 3.3: Frequency Count\n",
        "Given `departments = [\"Sales\", \"HR\", \"Sales\", \"IT\", \"IT\", \"IT\"]`, build a frequency dictionary mapping department → count using a loop."
      ]
    },
    {
      "cell_type": "code",
      "execution_count": null,
      "metadata": {},
      "outputs": [],
      "source": [
        "# Exercise 3.3: Your code here\n",
        "\n"
      ]
    },
    {
      "cell_type": "markdown",
      "metadata": {},
      "source": [
        "---\n",
        "\n",
        "## 🚀 Challenge Problems (Optional)\n",
        "\n",
        "1. Moving Average: Write `moving_average(nums, window)` that returns a list of averages for each contiguous window (ignore windows that don’t fit).\n",
        "2. Order-Preserving Dedup: Given a list of names with duplicates, return a new list with the first occurrence kept and later duplicates removed, preserving order.\n",
        "\n"
      ]
    },
    {
      "cell_type": "markdown",
      "metadata": {},
      "source": [
        "---\n",
        "\n",
        "## 🤔 Reflection Questions\n",
        "\n",
        "1. Where did loops simplify your code the most today?\n",
        "2. How did functions improve clarity or reuse?\n",
        "3. How would you explain linear search and max in plain English?\n",
        "\n"
      ]
    },
    {
      "cell_type": "markdown",
      "metadata": {},
      "source": [
        "---\n",
        "\n",
        "## 📚 Additional Resources\n",
        "\n",
        "- Python For Loops: `https://docs.python.org/3/tutorial/controlflow.html#for-statements`\n",
        "- While Loops: `https://docs.python.org/3/tutorial/introduction.html#first-steps-towards-programming`\n",
        "- Defining Functions: `https://docs.python.org/3/tutorial/controlflow.html#defining-functions`\n",
        "- Algorithms (intro): `https://runestone.academy/ns/books/published/pythonds/AlgorithmAnalysis/toctree.html`\n",
        "\n",
        "---\n"
      ]
    }
  ],
  "metadata": {
    "kernelspec": {
      "display_name": "base",
      "language": "python",
      "name": "python3"
    },
    "language_info": {
      "codemirror_mode": {
        "name": "ipython",
        "version": 3
      },
      "file_extension": ".py",
      "mimetype": "text/x-python",
      "name": "python",
      "nbconvert_exporter": "python",
      "pygments_lexer": "ipython3",
      "version": "3.13.5"
    }
  },
  "nbformat": 4,
  "nbformat_minor": 2
}
