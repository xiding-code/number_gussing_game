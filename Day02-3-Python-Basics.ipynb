{
  "cells": [
    {
      "cell_type": "markdown",
      "metadata": {},
      "source": [
        "# Day 2: Python Basics, Data Structures, and Control Flow\n",
        "## Lecture Notebook\n",
        "\n",
        "We'll explore variables and basic data types, core Python collections, and conditional logic.\n",
        "\n",
        "---\n"
      ]
    },
    {
      "cell_type": "markdown",
      "metadata": {},
      "source": [
        "## 🎯 Today's Learning Goals\n",
        "\n",
        "By the end of today, you will:\n",
        "1. Use variables with numbers, strings, and booleans\n",
        "2. Manipulate lists, tuples, dictionaries, and sets\n",
        "3. Write decision logic with `if`/`elif`/`else`\n",
        "4. Apply these tools to realistic business rules\n",
        "\n",
        "---\n"
      ]
    },
    {
      "cell_type": "markdown",
      "metadata": {},
      "source": [
        "## 🧱 Part 1: Variables, Expressions, and Basic Types\n",
        "\n",
        "We'll cover:\n",
        "- Creating variables and checking types\n",
        "- Numeric expressions and rounding\n",
        "- String methods (strip, title, lower, slicing)\n",
        "- Booleans in conditions\n",
        "\n",
        "### Demo 1.1: Variables & Types\n",
        "Set up subscription plan info and estimate revenue.\n"
      ]
    },
    {
      "cell_type": "code",
      "execution_count": 2,
      "metadata": {},
      "outputs": [
        {
          "name": "stdout",
          "output_type": "stream",
          "text": [
            "plane is plus <class 'str'>\n",
            "4875.0 <class 'float'>\n"
          ]
        }
      ],
      "source": [
        "# Live Code: Variables & Types\n",
        "\n",
        "# Define variables for a subscription plan and estimate monthly revenue\n",
        "plan_name = \"plus\"\n",
        "monthly_fee = 39.00\n",
        "active_users = 125\n",
        "is_trial = False\n",
        "print(\"plane is\",plan_name,type(plan_name))\n",
        "# print values, types, and est_revenue = monthly_fee * active_users\n",
        "est_expenses= monthly_fee*active_users\n",
        "print(est_expenses,type(est_expenses))\n"
      ]
    },
    {
      "cell_type": "markdown",
      "metadata": {},
      "source": [
        "### Demo 1.2: String Operations\n",
        "Given a `customer_full_name` and `account_id`, create a sanitized display name and a handle.\n"
      ]
    },
    {
      "cell_type": "code",
      "execution_count": 19,
      "metadata": {},
      "outputs": [
        {
          "name": "stdout",
          "output_type": "stream",
          "text": [
            "Taylor  Morgan\n"
          ]
        },
        {
          "data": {
            "text/plain": [
              "'morgan17'"
            ]
          },
          "execution_count": 19,
          "metadata": {},
          "output_type": "execute_result"
        }
      ],
      "source": [
        "# Live Code: String Ops\n",
        "customer_fullname=\" taylor  morgan\"\n",
        "accountid=98817\n",
        "clean=customer_fullname.strip()\n",
        "titled=clean.title()\n",
        "print(titled)\n",
        "\n",
        "first,last= titled.split()\n",
        "last.lower()\n",
        "\n",
        "last.lower()+str(accountid)[3:]\n",
        "\n",
        "\n",
        "\n",
        "\n",
        "# customer_full_name = \"  your customer name here  \"\n",
        "# account_id = 987654\n",
        "# Clean whitespace, title case, get initials, and build handle: last name lowercase + last 3 digits of account_id\n",
        "\n"
      ]
    },
    {
      "cell_type": "markdown",
      "metadata": {},
      "source": [
        "### Demo 1.3: Numeric Expressions\n",
        "Subscription cost with tax and coupon — compute multi-month total and round to cents.\n"
      ]
    },
    {
      "cell_type": "code",
      "execution_count": 25,
      "metadata": {},
      "outputs": [
        {
          "name": "stdout",
          "output_type": "stream",
          "text": [
            "pretax is 16.0\n",
            "pretax here taotal is  17.28\n",
            "pretax is 16.0 totalfarounded: 17.28\n"
          ]
        }
      ],
      "source": [
        "# Live Code: Numeric Expressions\n",
        "\n",
        "base_fee = 15.00\n",
        "tax_rate = 0.08\n",
        "coupon = 5.00\n",
        "months = 6\n",
        "pre_tax = base_fee + months - coupon\n",
        "print(\"pretax is\",pre_tax) \n",
        "total=pre_tax * (1+ tax_rate)\n",
        "print(\"pretax here taotal is \", total)\n",
        "totaltrounded= round(total,2)\n",
        "print(\"pretax is\",pre_tax,f\"totalfarounded:\",totaltrounded)\n"
      ]
    },
    {
      "cell_type": "markdown",
      "metadata": {},
      "source": [
        "---\n",
        "\n",
        "## 📦 Part 2: Core Data Structures\n",
        "\n",
        "We'll cover:\n",
        "- Lists: creation, indexing, slicing, aggregation\n",
        "- Tuples: immutability, unpacking, use-cases\n",
        "- Dictionaries: key/value access, updates, defaults\n",
        "- Sets: uniqueness, membership, set operations\n",
        "\n",
        "### Demo 2.1: Lists — Sales Series\n"
      ]
    },
    {
      "cell_type": "code",
      "execution_count": null,
      "metadata": {},
      "outputs": [
        {
          "name": "stdout",
          "output_type": "stream",
          "text": [
            "[32, 45, 28, 51, 47, 49]\n"
          ]
        },
        {
          "data": {
            "text/plain": [
              "42.0"
            ]
          },
          "execution_count": 29,
          "metadata": {},
          "output_type": "execute_result"
        }
      ],
      "source": [
        "# Live Code: Lists\n",
        "daily_signups = [32, 45, 28, 51, 47]\n",
        "daily_signups.append(49)\n",
        "print(daily_signups)\n",
        "# Append a new day's signups, compute min/max/avg, replace index 2, slice last 3\n",
        "min(daily_signups)\n",
        "sum(daily_signups)/len(daily_signups)\n",
        "daily_signups[2]=10\n",
        "\n"
      ]
    },
    {
      "cell_type": "markdown",
      "metadata": {},
      "source": [
        "### Demo 2.2: Tuples — Product Snapshot\n"
      ]
    },
    {
      "cell_type": "code",
      "execution_count": 30,
      "metadata": {},
      "outputs": [
        {
          "data": {
            "text/plain": [
              "('BASIC', 'Starter Plan', 10.0)"
            ]
          },
          "execution_count": 30,
          "metadata": {},
          "output_type": "execute_result"
        }
      ],
      "source": [
        "# Live Code: Tuples\n",
        "\n",
        "plan = (\"BASIC\", \"Starter Plan\", 9.99)\n",
        "code, title, price = plan\n",
        "updated_plan=(code,title, 10.0)\n",
        "updated_plan\n",
        "# Unpack, attempt mutation (show TypeError), create updated tuple with new price\n",
        "\n"
      ]
    },
    {
      "cell_type": "markdown",
      "metadata": {},
      "source": [
        "### Demo 2.3: Dictionaries — Customer Profile\n"
      ]
    },
    {
      "cell_type": "code",
      "execution_count": 31,
      "metadata": {},
      "outputs": [
        {
          "name": "stdout",
          "output_type": "stream",
          "text": [
            "{'member_id': 2001, 'name': 'Jordan Lee', 'level': 'Standard', 'credits': 100, 'email': 'jordan.lee@example.com'}\n"
          ]
        }
      ],
      "source": [
        "# Live Code: Dictionaries\n",
        "\n",
        "member = {\"member_id\": 2001, \"name\": \"Jordan Lee\", \"level\": \"Standard\", \"credits\": 75}\n",
        "# Access, add contact email, increment credits\n",
        "member[\"level\"]\n",
        "member[\"email\"] = \"jordan.lee@example.com\"\n",
        "member[\"credits\"] +=25\n",
        "print(member)"
      ]
    },
    {
      "cell_type": "markdown",
      "metadata": {},
      "source": [
        "### Demo 2.4: Sets — Unique Purchases and Promotions\n"
      ]
    },
    {
      "cell_type": "code",
      "execution_count": null,
      "metadata": {},
      "outputs": [],
      "source": [
        "# Live Code: Sets\n",
        "\n",
        "attendee_emails = [\"a@x.com\", \"b@y.com\", \"a@x.com\", \"c@z.com\", \"b@y.com\"]\n",
        "unique_emails = set(attendee_emails)\n",
        "# add \"d@w.com\"\n",
        "# Check membership and intersection with invited = {\"b@y.com\", \"d@w.com\", \"e@v.com\"}\n",
        "\n"
      ]
    },
    {
      "cell_type": "markdown",
      "metadata": {},
      "source": [
        "---\n",
        "\n",
        "## 🔀 Part 3: Control Flow with Conditionals\n",
        "\n",
        "### Demo 3.1: Shipping Cost Rules\n",
        "Implement tiered shipping based on order total.\n"
      ]
    },
    {
      "cell_type": "code",
      "execution_count": 32,
      "metadata": {},
      "outputs": [
        {
          "name": "stdout",
          "output_type": "stream",
          "text": [
            "77.39\n"
          ]
        }
      ],
      "source": [
        "# Live Code: Shipping Cost Rules\n",
        "cart_total=72.40\n",
        "\n",
        "# cart_total = 72.40\n",
        "# if ... elif ... else ...\n",
        "# Compute shipping_cost and grand_total, print both\n",
        "if cart_total<50:\n",
        "    shipping_cost=7.99\n",
        "elif cart_total<100:\n",
        "    shipping_cost=4.99\n",
        "else:\n",
        "    shipping_cost=0.0\n",
        "\n",
        "total = cart_total +shipping_cost\n",
        "print(total)\n"
      ]
    },
    {
      "cell_type": "markdown",
      "metadata": {},
      "source": [
        "### Demo 3.2: Loyalty Discount\n",
        "Apply a discount based on customer tier.\n"
      ]
    },
    {
      "cell_type": "code",
      "execution_count": null,
      "metadata": {},
      "outputs": [],
      "source": [
        "# Live Code: Loyalty Discount\n",
        "\n",
        "# tier = \"Premium\"\n",
        "# purchase_total = 180.00\n",
        "# Determine rate via if/elif/else, compute discount_amount and final_total\n",
        "\n"
      ]
    },
    {
      "cell_type": "markdown",
      "metadata": {},
      "source": [
        "### Demo 3.3: Fraud Check\n",
        "Combine multiple conditions with boolean operators to flag risky orders.\n"
      ]
    },
    {
      "cell_type": "code",
      "execution_count": 33,
      "metadata": {},
      "outputs": [
        {
          "name": "stdout",
          "output_type": "stream",
          "text": [
            "isflagged True\n"
          ]
        }
      ],
      "source": [
        "# Live Code: Fraud Check\n",
        "\n",
        "amount = 950.00\n",
        "destination_country = \"DE\"\n",
        "billing_address = \"123 A St\"\n",
        "shipping_address = \"123 A St\"\n",
        "account_active = False\n",
        "# Build boolean expression and print is_flagged\n",
        "is_flagged = False\n",
        "if amount>1000 and destination_country != \"DE\":\n",
        "    is_flagged=True\n",
        "elif (billing_address != shipping_address) and (amount>500):\n",
        "    is_flagged = True\n",
        "elif (account_active is False ) and (amount >0):\n",
        "    is_flagged= True\n",
        "print(\"isflagged\",is_flagged)"
      ]
    },
    {
      "cell_type": "markdown",
      "metadata": {},
      "source": [
        "---\n",
        "\n",
        "## ➡️ Next: Work through the Day 2 Assignment\n",
        "Open `Day02-2-Python-Basics-Assignment.ipynb` to practice.\n"
      ]
    }
  ],
  "metadata": {
    "kernelspec": {
      "display_name": "base",
      "language": "python",
      "name": "python3"
    },
    "language_info": {
      "codemirror_mode": {
        "name": "ipython",
        "version": 3
      },
      "file_extension": ".py",
      "mimetype": "text/x-python",
      "name": "python",
      "nbconvert_exporter": "python",
      "pygments_lexer": "ipython3",
      "version": "3.13.5"
    }
  },
  "nbformat": 4,
  "nbformat_minor": 2
}
