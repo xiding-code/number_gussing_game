{
  "cells": [
    {
      "cell_type": "markdown",
      "metadata": {},
      "source": [
        "# Day 3: Python Loops\n",
        "## Lecture Notebook\n",
        "\n",
        "This notebook is for live coding on loops. We'll iterate with `for` and `while`, compare when to use each, and practice common patterns.\n",
        "\n",
        "---\n"
      ]
    },
    {
      "cell_type": "markdown",
      "metadata": {},
      "source": [
        "## 🎯 Goals for This Session\n",
        "- Iterate lists and ranges with `for`\n",
        "- Control repetition and termination with `while`\n",
        "- Choose the right loop for the job\n",
        "\n",
        "---\n"
      ]
    },
    {
      "cell_type": "markdown",
      "metadata": {},
      "source": [
        "## 🔁 Part 1: For Loops\n",
        "\n",
        "### Demo 1.1: Iterating Over a List\n",
        "Iterate over `orders = [45, 120, 75, 200, 95]` and compute total and count of orders >= 100.\n"
      ]
    },
    {
      "cell_type": "code",
      "execution_count": null,
      "metadata": {},
      "outputs": [],
      "source": [
        "#Live Code: For Loop over list\n",
        "\n",
        "orders = [45, 120, 75, 200, 95]\n",
        "total = 0\n",
        "high_count = 0\n",
        "# for ...:\n",
        "#     ...\n",
        "# print(total, high_count)\n",
        "\n"
      ]
    },
    {
      "cell_type": "markdown",
      "metadata": {},
      "source": [
        "### Demo 1.2: Range and Index\n",
        "Use `range` to iterate indexes for `names = [\"Ava\", \"Ben\", \"Cara\"]` and print index → name.\n"
      ]
    },
    {
      "cell_type": "code",
      "execution_count": null,
      "metadata": {},
      "outputs": [],
      "source": [
        "# Live Code: range indices\n",
        "\n",
        "# names = [\"Ava\", \"Ben\", \"Cara\"]\n",
        "# for i in range(len(names)):\n",
        "#     print(i, names[i])\n",
        "\n"
      ]
    },
    {
      "cell_type": "markdown",
      "metadata": {},
      "source": [
        "## 🔄 Part 2: While Loops\n",
        "\n",
        "### Demo 2.1: Counter with Condition\n",
        "Increment a counter until it reaches a limit; print steps.\n"
      ]
    },
    {
      "cell_type": "code",
      "execution_count": 4,
      "metadata": {},
      "outputs": [
        {
          "name": "stdout",
          "output_type": "stream",
          "text": [
            "5\n"
          ]
        }
      ],
      "source": [
        "# Live Code: while loop counter\n",
        "\n",
        "count = 0\n",
        "limit = 5\n",
        "while count != limit:\n",
        "     count+=1\n",
        "print(count)\n",
        "\n"
      ]
    },
    {
      "cell_type": "markdown",
      "metadata": {},
      "source": [
        "### Demo 2.2: Input Simulation with Sentinel\n",
        "Simulate reading values until `None` is encountered, then stop."
      ]
    },
    {
      "cell_type": "code",
      "execution_count": 18,
      "metadata": {},
      "outputs": [
        {
          "name": "stdout",
          "output_type": "stream",
          "text": [
            "2\n",
            "Index:0 & Value: 10 - The division by 2 becomes 5.0\n",
            "Index:1 & Value: 20 - The division by 2 becomes 10.0\n",
            "warning --- A None values was detected (idex:2). we will skip this iteration\n",
            "Index:3 & Value: 30 - The division by 2 becomes 15.0\n"
          ]
        }
      ],
      "source": [
        "# Live Code: sentinel loop\n",
        "\n",
        "values = [10, 20, None, 30]\n",
        "i = 0\n",
        "while i < len(values) and values[i] is not None:\n",
        " \n",
        "      i += 1\n",
        "print(i)\n",
        "\n",
        "\n",
        "for i in range (len(values)):\n",
        "      if values[i] is None:\n",
        "            print(f\"warning --- A None values was detected (idex:{i}). we will skip this iteration\")\n",
        "            continue #跳过下面的直接进行新一轮找数\n",
        "      print(f\"Index:{i} & Value: {values[i]} - The division by 2 becomes {values[i]/2}\")\n"
      ]
    },
    {
      "cell_type": "markdown",
      "metadata": {},
      "source": [
        "## 🧪 Part 3: Filtering/Mapping and Flow Control\n",
        "\n",
        "### Demo 3.1: Filtering and Mapping\n",
        "Use a loop to filter and then map values in a single pass.\n"
      ]
    },
    {
      "cell_type": "code",
      "execution_count": 9,
      "metadata": {},
      "outputs": [
        {
          "name": "stdout",
          "output_type": "stream",
          "text": [
            "filtered :[25.0, 120.0, 49.99]\n",
            "withtax :[10.61, 26.56, 4.78, 127.5, 53.11]\n"
          ]
        }
      ],
      "source": [
        "# Live Code: Filtering and Mapping\n",
        "\n",
        "prices = [9.99, 25.00, 4.50, 120.00, 49.99]\n",
        "filtered = []  # keep prices >= 20\n",
        "with_tax = []  # map to price * 1.0825 (example tax)\n",
        "for price in prices:\n",
        "    if price>=20:\n",
        "        filtered.append(price)\n",
        "\n",
        "    tax_price=round(price*1.0625,2)\n",
        "    with_tax.append(tax_price)\n",
        "print(f\"filtered :{filtered}\")\n",
        "print(f\"withtax :{with_tax}\")"
      ]
    },
    {
      "cell_type": "markdown",
      "metadata": {},
      "source": [
        "Now let's write a list comprehension that returns a list of prices (with tax) for items >=$20:"
      ]
    },
    {
      "cell_type": "code",
      "execution_count": 13,
      "metadata": {},
      "outputs": [
        {
          "name": "stdout",
          "output_type": "stream",
          "text": [
            "[26.56, 127.5, 53.11]\n"
          ]
        }
      ],
      "source": [
        "# Live Code: Filtering and Mapping\n",
        "prices = [9.99, 25.00, 4.50, 120.00, 49.99]\n",
        "\n",
        "with_tax = []  # map to price * 1.0825 (example tax)\n",
        "#for price in prices:\n",
        "#    if price>=20:\n",
        " #       filtered.append(price)\n",
        "\n",
        "  #  tax_price=round(price*1.0625,2)\n",
        "   # with_tax.append(tax_price)\n",
        "\n",
        "#print(f\"withtax :{with_tax}\")\n",
        "\n",
        "with_tax=[round(price * 1.0625, 2) for price in prices if price>=20]\n",
        "\n",
        "print(with_tax)\n"
      ]
    },
    {
      "cell_type": "markdown",
      "metadata": {},
      "source": [
        "### Demo 3.2: Early Exit and Skips\n",
        "Demonstrating `break` to stop early and `continue` to skip items."
      ]
    },
    {
      "cell_type": "code",
      "execution_count": null,
      "metadata": {},
      "outputs": [
        {
          "name": "stdout",
          "output_type": "stream",
          "text": [
            "26\n",
            "aldjfjaljf. <class 'int'>\n"
          ]
        }
      ],
      "source": [
        "# Live Code: break and continue\n",
        "\n",
        "numbers = [3, 7, -1, 10, 1, 5]\n",
        "total = 0\n",
        "for n in numbers:\n",
        "     if n < 0:\n",
        "         continue  # skip negative numbers\n",
        "     if n == 0:\n",
        "         break  # early exit on invalid value\n",
        "     total += n\n",
        "print(total)\n",
        "\n"
      ]
    }
  ],
  "metadata": {
    "kernelspec": {
      "display_name": "base",
      "language": "python",
      "name": "python3"
    },
    "language_info": {
      "codemirror_mode": {
        "name": "ipython",
        "version": 3
      },
      "file_extension": ".py",
      "mimetype": "text/x-python",
      "name": "python",
      "nbconvert_exporter": "python",
      "pygments_lexer": "ipython3",
      "version": "3.13.5"
    }
  },
  "nbformat": 4,
  "nbformat_minor": 2
}
