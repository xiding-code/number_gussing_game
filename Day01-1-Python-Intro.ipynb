{
  "cells": [
    {
      "cell_type": "markdown",
      "metadata": {},
      "source": [
        "# Day 1: Python Programming Fundamentals\n",
        "## Lecture Notebook\n",
        "\n",
        "Welcome to Python Programming! This notebook introduces the core concepts we'll explore today.\n",
        "\n",
        "---\n"
      ]
    },
    {
      "cell_type": "markdown",
      "metadata": {},
      "source": [
        "## 🎯 Today's Learning Goals\n",
        "\n",
        "By the end of today's session, you will:\n",
        "1. **Understand** computational thinking principles\n",
        "2. **Write** pseudocode to plan solutions\n",
        "3. **Create** your first Python programs\n",
        "4. **Apply** problem-solving strategies\n",
        "\n",
        "---\n"
      ]
    },
    {
      "cell_type": "markdown",
      "metadata": {},
      "source": [
        "## 🧠 Part 1: Computational Thinking\n",
        "\n",
        "### The Four Pillars\n",
        "\n",
        "**1. Decomposition** 🧩  \n",
        "Breaking complex problems into smaller, manageable pieces\n",
        "\n",
        "**2. Pattern Recognition** 🔍  \n",
        "Finding similarities and recurring themes\n",
        "\n",
        "**3. Abstraction** 🎯  \n",
        "Focusing on what's important, ignoring unnecessary details\n",
        "\n",
        "**4. Algorithm Design** 🛠️  \n",
        "Creating step-by-step solutions\n",
        "\n",
        "### Live Example: Making Coffee ☕\n",
        "*Let's decompose this together...*\n"
      ]
    },
    {
      "cell_type": "markdown",
      "metadata": {},
      "source": [
        "### Pattern Recognition Practice\n",
        "\n",
        "**Can you spot the patterns?**\n",
        "\n",
        "```\n",
        "Sequence A: 5, 10, 15, 20, ?, ?\n",
        "Sequence B: 1, 4, 9, 16, ?, ?\n",
        "Sequence C: A, C, E, G, ?, ?\n",
        "```\n",
        "\n",
        "*We'll solve these together in class*\n"
      ]
    },
    {
      "cell_type": "markdown",
      "metadata": {},
      "source": [
        "---\n",
        "\n",
        "## 📝 Part 2: Pseudocode\n",
        "\n",
        "### What is Pseudocode?\n",
        "A bridge between human thinking and computer code - written in plain English but structured like programming logic.\n",
        "\n",
        "### Key Elements:\n",
        "- `START` and `END`\n",
        "- `INPUT` and `OUTPUT` \n",
        "- `IF`, `THEN`, `ELSE`\n",
        "- `WHILE`, `FOR`\n",
        "- Indentation for structure\n",
        "\n",
        "### Example: Checking if someone can vote\n",
        "```\n",
        "START\n",
        "    INPUT person's age\n",
        "    IF age >= 18 THEN\n",
        "        OUTPUT \"You can vote!\"\n",
        "    ELSE\n",
        "        OUTPUT \"Not old enough yet\"\n",
        "    END IF\n",
        "END\n",
        "```\n"
      ]
    },
    {
      "cell_type": "markdown",
      "metadata": {},
      "source": [
        "### Live Coding: Traffic Light Algorithm\n",
        "\n",
        "**Problem**: Create pseudocode for a traffic light system\n",
        "\n",
        "*We'll work through this step by step together*\n",
        "\n",
        "**Your turn**: Write pseudocode for deciding what to wear based on weather\n"
      ]
    },
    {
      "cell_type": "markdown",
      "metadata": {},
      "source": [
        "---\n",
        "\n",
        "## 🐍 Part 3: Introduction to Python\n",
        "\n",
        "### Why Python?\n",
        "- **Readable**: Code looks like English\n",
        "- **Versatile**: Used in AI, web development, data science\n",
        "- **Beginner-friendly**: Simple syntax\n",
        "- **Powerful**: Can build anything from websites to robots\n",
        "\n",
        "### How Python Works:\n",
        "```\n",
        "You write code → Python interpreter → Computer understands → Results!\n",
        "```\n",
        "\n",
        "### Python vs. Other Languages:\n",
        "\n",
        "**Java**: `System.out.println(\"Hello World\");`  \n",
        "**C++**: `std::cout << \"Hello World\" << std::endl;`  \n",
        "**Python**: `print(\"Hello World\")`  \n",
        "\n",
        "*Much simpler! 😊*\n"
      ]
    },
    {
      "cell_type": "markdown",
      "metadata": {},
      "source": [
        "### Essential Python Concepts\n",
        "\n",
        "#### 1. Printing Output\n",
        "The `print()` function displays text on the screen.\n",
        "\n",
        "**Example**: Display a welcome message\n"
      ]
    },
    {
      "cell_type": "code",
      "execution_count": null,
      "metadata": {},
      "outputs": [],
      "source": [
        "# Demo: Your First Python Program\n",
        "# We'll write this together in class\n",
        "\n",
        "# Your code will go here...\n"
      ]
    },
    {
      "cell_type": "markdown",
      "metadata": {},
      "source": [
        "#### 2. Variables - Storing Information\n",
        "Variables are like labeled boxes that store data.\n",
        "\n",
        "**Example**: Store and display a student's name\n"
      ]
    },
    {
      "cell_type": "code",
      "execution_count": null,
      "metadata": {},
      "outputs": [],
      "source": [
        "# Demo: Working with Variables\n",
        "# We'll explore this concept together\n",
        "\n",
        "# Your code will go here...\n"
      ]
    },
    {
      "cell_type": "markdown",
      "metadata": {},
      "source": [
        "#### 3. Getting User Input\n",
        "The `input()` function asks users for information.\n",
        "\n",
        "**Example**: Ask for someone's favorite color\n"
      ]
    },
    {
      "cell_type": "code",
      "execution_count": null,
      "metadata": {},
      "outputs": [],
      "source": [
        "# Demo: Interactive Programs\n",
        "# Let's make Python talk to us!\n",
        "\n",
        "# Your code will go here...\n"
      ]
    },
    {
      "cell_type": "markdown",
      "metadata": {},
      "source": [
        "#### 4. Making Decisions with if/else\n",
        "Computers can make choices based on conditions.\n",
        "\n",
        "**Example**: Check if someone can vote based on their age\n"
      ]
    },
    {
      "cell_type": "code",
      "execution_count": null,
      "metadata": {},
      "outputs": [],
      "source": [
        "# Demo: Decision Making\n",
        "# Teaching computers to think!\n",
        "\n",
        "# Your code will go here...\n"
      ]
    },
    {
      "cell_type": "markdown",
      "metadata": {},
      "source": [
        "#### 5. Working with Numbers\n",
        "Python can do math and convert between text and numbers.\n",
        "\n",
        "**Example**: Simple calculator that adds two numbers\n"
      ]
    },
    {
      "cell_type": "code",
      "execution_count": null,
      "metadata": {},
      "outputs": [],
      "source": [
        "# Demo: Python as a Calculator\n",
        "# Let's do some math!\n",
        "\n",
        "# Your code will go here...\n"
      ]
    },
    {
      "cell_type": "markdown",
      "metadata": {},
      "source": [
        "---\n",
        "\n",
        "## 🎯 Putting It All Together\n",
        "\n",
        "### Live Demo: From Pseudocode to Python\n",
        "We'll take a simple problem and go from idea → pseudocode → working Python code\n",
        "\n",
        "**Problem**: Create a program that determines if a student passes or fails based on their grade\n",
        "\n",
        "**Step 1**: Pseudocode (we'll write this together)  \n",
        "**Step 2**: Python implementation (live coding!)\n"
      ]
    },
    {
      "cell_type": "code",
      "execution_count": null,
      "metadata": {},
      "outputs": [],
      "source": [
        "# Complete Demo: Grade Checker\n",
        "# From problem to solution in real-time!\n",
        "\n",
        "# Your code will go here...\n"
      ]
    },
    {
      "cell_type": "markdown",
      "metadata": {},
      "source": [
        "---\n",
        "\n",
        "## 🚀 What's Next?\n",
        "\n",
        "### Today You Learned:\n",
        "✅ How to break down problems (computational thinking)  \n",
        "✅ How to plan solutions (pseudocode)  \n",
        "✅ How to write basic Python programs  \n",
        "✅ How to make interactive programs  \n",
        "\n",
        "### Next: Hands-On Practice!\n",
        "Now you'll work through the **Exercise Notebook** to:\n",
        "- Apply these concepts independently\n",
        "- Build more complex programs\n",
        "- Solve interesting challenges\n",
        "- Develop your programming skills\n",
        "\n",
        "### Remember:\n",
        "- **Programming is problem-solving** - start with thinking, not typing\n",
        "- **Mistakes are learning opportunities** - every programmer debugs daily\n",
        "- **Practice makes progress** - the more you code, the better you get\n",
        "\n",
        "**Let's move to the exercise notebook! 🎯**\n"
      ]
    }
  ],
  "metadata": {
    "language_info": {
      "name": "python"
    }
  },
  "nbformat": 4,
  "nbformat_minor": 2
}
